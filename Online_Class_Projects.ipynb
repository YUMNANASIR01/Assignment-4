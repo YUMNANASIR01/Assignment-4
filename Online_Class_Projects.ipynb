{
  "nbformat": 4,
  "nbformat_minor": 0,
  "metadata": {
    "colab": {
      "provenance": []
    },
    "kernelspec": {
      "name": "python3",
      "display_name": "Python 3"
    },
    "language_info": {
      "name": "python"
    }
  },
  "cells": [
    {
      "cell_type": "markdown",
      "source": [
        "# **01_basics**"
      ],
      "metadata": {
        "id": "-toEdDapPcxX"
      }
    },
    {
      "cell_type": "markdown",
      "source": [
        "# **00_joke_bot**"
      ],
      "metadata": {
        "id": "4xvtQ-LkPjDV"
      }
    },
    {
      "cell_type": "code",
      "source": [
        "PROMPT = \"What do you want? \"\n",
        "JOKE = \"\"\"Here is a joke for you!\n",
        "Panaversity GPT - Sophia is heading out to the grocery store. A programmer tells her: get a liter of milk, and if they have eggs, get 12.\n",
        "Sophia returns with 13 liters of milk. The programmer asks why and Sophia replies: 'because they had eggs'\"\"\"\n",
        "SORRY = \"Sorry, I only tell jokes.\"\n",
        "\n",
        "def joke_bot():\n",
        "    user_input = input(PROMPT)\n",
        "\n",
        "    if user_input == \"joke\":\n",
        "        print(JOKE)\n",
        "    else:\n",
        "        print(SORRY)\n",
        "\n",
        "joke_bot()\n"
      ],
      "metadata": {
        "colab": {
          "base_uri": "https://localhost:8080/"
        },
        "id": "pNMkm5mUPl3V",
        "outputId": "86a35a91-19ff-424b-e346-b8b809963038"
      },
      "execution_count": null,
      "outputs": [
        {
          "output_type": "stream",
          "name": "stdout",
          "text": [
            "What do you want? joke\n",
            "Here is a joke for you!\n",
            "Panaversity GPT - Sophia is heading out to the grocery store. A programmer tells her: get a liter of milk, and if they have eggs, get 12.\n",
            "Sophia returns with 13 liters of milk. The programmer asks why and Sophia replies: 'because they had eggs'\n"
          ]
        }
      ]
    },
    {
      "cell_type": "markdown",
      "source": [
        "# **01_double_it**"
      ],
      "metadata": {
        "id": "X-O4IFg-QoSy"
      }
    },
    {
      "cell_type": "code",
      "source": [
        "curr_value = int(input(\"Enter a number: \"))  # Get user input\n",
        "\n",
        "while curr_value < 100:  # Repeat until the value is 100 or more\n",
        "    curr_value *= 2  # Double the value\n",
        "    print(curr_value, end=\" \")  # Print the value on the same line"
      ],
      "metadata": {
        "id": "fbH2pG-sQrH0",
        "outputId": "ebadac86-ce09-40d4-df76-b625949c180a",
        "colab": {
          "base_uri": "https://localhost:8080/"
        }
      },
      "execution_count": null,
      "outputs": [
        {
          "output_type": "stream",
          "name": "stdout",
          "text": [
            "Enter a number: 8\n",
            "16 32 64 128 "
          ]
        }
      ]
    },
    {
      "cell_type": "markdown",
      "source": [
        "# **02_liftoff**"
      ],
      "metadata": {
        "id": "0Xy0-A10-CDe"
      }
    },
    {
      "cell_type": "code",
      "source": [
        "for i in range(10, 0, -1):\n",
        "    print(i, end=\" \")\n",
        "\n",
        "print(\"Liftoff!\")\n"
      ],
      "metadata": {
        "colab": {
          "base_uri": "https://localhost:8080/"
        },
        "id": "PPr5lGGh-D9I",
        "outputId": "8154b73c-d71d-4922-d657-ea5bdadd2867"
      },
      "execution_count": null,
      "outputs": [
        {
          "output_type": "stream",
          "name": "stdout",
          "text": [
            "10 9 8 7 6 5 4 3 2 1 Liftoff!\n"
          ]
        }
      ]
    },
    {
      "cell_type": "markdown",
      "source": [
        "# **03_guess_my_number**"
      ],
      "metadata": {
        "id": "WrkhX9CI-M_Y"
      }
    },
    {
      "cell_type": "code",
      "source": [
        "import random\n",
        "\n",
        "# Generate a random number between 0 and 99\n",
        "secret_number = random.randint(0, 9)\n",
        "\n",
        "# Ask the user for their first guess\n",
        "guess = int(input(\"I am thinking of a number between 0 and 9... Enter a guess: \"))\n",
        "\n",
        "while guess != secret_number:\n",
        "    if guess > secret_number:\n",
        "        print(\"Your guess is too high\")\n",
        "    else:\n",
        "        print(\"Your guess is too low\")\n",
        "\n",
        "    # Ask for a new guess\n",
        "    guess = int(input(\"Enter a new number: \"))\n",
        "\n",
        "# If they guess correctly, print the congrats message\n",
        "print(f\"Congrats😍! The number was: {secret_number}\")"
      ],
      "metadata": {
        "colab": {
          "base_uri": "https://localhost:8080/"
        },
        "id": "EHSpkkXJ-P1n",
        "outputId": "99e1d691-bd37-4c4e-c569-f5a16e8b8a29"
      },
      "execution_count": null,
      "outputs": [
        {
          "output_type": "stream",
          "name": "stdout",
          "text": [
            "I am thinking of a number between 0 and 9... Enter a guess: 5\n",
            "Congrats😍! The number was: 5\n"
          ]
        }
      ]
    },
    {
      "cell_type": "markdown",
      "source": [
        "# **04_random_numbers**"
      ],
      "metadata": {
        "id": "2YRQilZl-c6J"
      }
    },
    {
      "cell_type": "code",
      "source": [
        "import random\n",
        "\n",
        "for _ in range(10):\n",
        "    print(random.randint(1, 100), end=\" \")\n",
        "\n",
        "print()"
      ],
      "metadata": {
        "colab": {
          "base_uri": "https://localhost:8080/"
        },
        "id": "UxxgEmPo-iG6",
        "outputId": "58a7dd20-3af5-4a61-f30b-266209db97df"
      },
      "execution_count": null,
      "outputs": [
        {
          "output_type": "stream",
          "name": "stdout",
          "text": [
            "87 52 62 42 40 95 65 6 97 10 \n"
          ]
        }
      ]
    },
    {
      "cell_type": "markdown",
      "source": [
        "# **02_intermediate**"
      ],
      "metadata": {
        "id": "S5JRvFKG-2L0"
      }
    },
    {
      "cell_type": "markdown",
      "source": [
        "# **Control Flow for Console**\n",
        "\n",
        "\n",
        "**Milestone #1: Generate the random numbers**"
      ],
      "metadata": {
        "id": "T2xXVvNR-48G"
      }
    },
    {
      "cell_type": "code",
      "source": [
        "import random\n",
        "\n",
        "print(\"Welcome to the High-Low Game!🎉😍\")\n",
        "print(\"--------------------------------\")\n",
        "\n",
        "# Generate random numbers\n",
        "user_number = random.randint(1, 100)\n",
        "computer_number = random.randint(1, 100)\n",
        "\n",
        "# Print the generated numbers\n",
        "print(f\"The computer's number is {computer_number}\")\n",
        "print(f\"Your number is {user_number}\")"
      ],
      "metadata": {
        "colab": {
          "base_uri": "https://localhost:8080/"
        },
        "id": "jppgP2vD_Itw",
        "outputId": "70f5efe8-e99f-4fdb-cc19-ce2e91f8c759"
      },
      "execution_count": null,
      "outputs": [
        {
          "output_type": "stream",
          "name": "stdout",
          "text": [
            "Welcome to the High-Low Game!🎉😍\n",
            "--------------------------------\n",
            "The computer's number is 41\n",
            "Your number is 67\n"
          ]
        }
      ]
    },
    {
      "cell_type": "markdown",
      "source": [
        "**Milestone #2: Get the user choice**"
      ],
      "metadata": {
        "id": "AoCNUyhF_SfA"
      }
    },
    {
      "cell_type": "code",
      "source": [
        "import random\n",
        "\n",
        "print(\"Welcome to the High-Low Game!🎉😍\")\n",
        "print(\"--------------------------------\")\n",
        "\n",
        "# Generate random numbers\n",
        "user_number = random.randint(1, 100)\n",
        "computer_number = random.randint(1, 100)\n",
        "\n",
        "# Print the user's number (but not the computer's number)\n",
        "print(f\"Your number is {user_number}\")\n",
        "\n",
        "# Get user input\n",
        "guess = input(\"Do you think your number is higher or lower than the computer's?: \").lower()\n"
      ],
      "metadata": {
        "colab": {
          "base_uri": "https://localhost:8080/"
        },
        "id": "60bVc5rr_WPJ",
        "outputId": "e9ab94e2-e245-4423-fd91-fa88e755732a"
      },
      "execution_count": null,
      "outputs": [
        {
          "name": "stdout",
          "output_type": "stream",
          "text": [
            "Welcome to the High-Low Game!🎉😍\n",
            "--------------------------------\n",
            "Your number is 71\n",
            "Do you think your number is higher or lower than the computer's?: lower\n"
          ]
        }
      ]
    },
    {
      "cell_type": "markdown",
      "source": [
        "**Milestone #3: Write the game logic**"
      ],
      "metadata": {
        "id": "98ZTk3Ym_li0"
      }
    },
    {
      "cell_type": "code",
      "source": [
        "import random\n",
        "\n",
        "print(\"Welcome to the High-Low Game!😍🎉\")\n",
        "print(\"--------------------------------\")\n",
        "\n",
        "# Generate random numbers\n",
        "user_number = random.randint(1, 100)\n",
        "computer_number = random.randint(1, 100)\n",
        "\n",
        "# Print the user's number\n",
        "print(f\"Your number is {user_number}\")\n",
        "\n",
        "# Get user input\n",
        "guess = input(\"Do you think your number is higher or lower than the computer's?: \").lower()\n",
        "\n",
        "# Check who wins\n",
        "if user_number == computer_number:\n",
        "    print(f\"Aww, that's incorrect. The computer's number was {computer_number}\")\n",
        "elif (guess == \"higher\" and user_number > computer_number) or (guess == \"lower\" and user_number < computer_number):\n",
        "    print(f\"You were right! The computer's number was {computer_number}\")\n",
        "else:\n",
        "    print(f\"Aww, that's incorrect. The computer's number was {computer_number}\")\n"
      ],
      "metadata": {
        "colab": {
          "base_uri": "https://localhost:8080/"
        },
        "id": "n_Pb9y7M_nU6",
        "outputId": "630d3b88-e346-45f9-d4d2-ab0579c7fa7f"
      },
      "execution_count": null,
      "outputs": [
        {
          "output_type": "stream",
          "name": "stdout",
          "text": [
            "Welcome to the High-Low Game!😍🎉\n",
            "--------------------------------\n",
            "Your number is 63\n",
            "Do you think your number is higher or lower than the computer's?: higher\n",
            "You were right! The computer's number was 17\n"
          ]
        }
      ]
    },
    {
      "cell_type": "markdown",
      "source": [
        "\n",
        "**Milestone #4: Play multiple rounds**"
      ],
      "metadata": {
        "id": "f0BiUjF9_zNn"
      }
    },
    {
      "cell_type": "code",
      "source": [
        "import random\n",
        "\n",
        "NUM_ROUNDS = 3  # Number of rounds to play\n",
        "\n",
        "print(\"Welcome to the High-Low Game!😍🎉\")\n",
        "print(\"--------------------------------\")\n",
        "\n",
        "for round_num in range(1, NUM_ROUNDS + 1):\n",
        "    print(f\"Round {round_num}\")\n",
        "\n",
        "    # Generate random numbers\n",
        "    user_number = random.randint(1, 100)\n",
        "    computer_number = random.randint(1, 100)\n",
        "\n",
        "    # Print the user's number\n",
        "    print(f\"Your number is {user_number}\")\n",
        "\n",
        "    # Get user input\n",
        "    guess = input(\"Do you think your number is higher or lower than the computer's?: \").lower()\n",
        "\n",
        "    # Check who wins\n",
        "    if user_number == computer_number:\n",
        "        print(\"Aww, that's incorrect.\")\n",
        "    elif (guess == \"higher\" and user_number > computer_number) or (guess == \"lower\" and user_number < computer_number):\n",
        "        print(\"You were right!\")\n",
        "    else:\n",
        "        print(\"Aww, that's incorrect.\")\n",
        "\n",
        "    print()  # Blank line to separate rounds\n",
        "\n",
        "print(\"Thanks for playing!\")"
      ],
      "metadata": {
        "colab": {
          "base_uri": "https://localhost:8080/"
        },
        "id": "aLHR2t_v_01i",
        "outputId": "98f7a467-608f-48f6-d2d7-0209c904bd4d"
      },
      "execution_count": null,
      "outputs": [
        {
          "output_type": "stream",
          "name": "stdout",
          "text": [
            "Welcome to the High-Low Game!😍🎉\n",
            "--------------------------------\n",
            "Round 1\n",
            "Your number is 8\n",
            "Do you think your number is higher or lower than the computer's?: lower\n",
            "You were right!\n",
            "\n",
            "Round 2\n",
            "Your number is 14\n",
            "Do you think your number is higher or lower than the computer's?: higher\n",
            "Aww, that's incorrect.\n",
            "\n",
            "Round 3\n",
            "Your number is 88\n",
            "Do you think your number is higher or lower than the computer's?: lower\n",
            "Aww, that's incorrect.\n",
            "\n",
            "Thanks for playing!\n"
          ]
        }
      ]
    },
    {
      "cell_type": "markdown",
      "source": [
        "**Milestone #5: Adding a points system**"
      ],
      "metadata": {
        "id": "Ai1MSJdzAccA"
      }
    },
    {
      "cell_type": "code",
      "source": [
        "import random\n",
        "\n",
        "NUM_ROUNDS = 3  # Number of rounds to play\n",
        "score = 0  # Track the player's score\n",
        "\n",
        "print(\"Welcome to the High-Low Game!😍🎉\")\n",
        "print(\"--------------------------------\")\n",
        "\n",
        "for round_num in range(1, NUM_ROUNDS + 1):\n",
        "    print(f\"Round {round_num}\")\n",
        "\n",
        "    # Generate random numbers\n",
        "    user_number = random.randint(1, 100)\n",
        "    computer_number = random.randint(1, 100)\n",
        "\n",
        "    # Print the user's number\n",
        "    print(f\"Your number is {user_number}\")\n",
        "\n",
        "    # Get valid user input\n",
        "    while True:\n",
        "        guess = input(\"Do you think your number is higher or lower than the computer's?: \").lower()\n",
        "        if guess in [\"higher\", \"lower\"]:\n",
        "            break\n",
        "        print(\"Please enter either 'higher' or 'lower'.\")\n",
        "\n",
        "    # Check who wins\n",
        "    if user_number == computer_number:\n",
        "        print(f\"Aww, that's incorrect. The computer's number was {computer_number}\")\n",
        "    elif (guess == \"higher\" and user_number > computer_number) or (guess == \"lower\" and user_number < computer_number):\n",
        "        print(f\"You were right! The computer's number was {computer_number}\")\n",
        "        score += 1\n",
        "    else:\n",
        "        print(f\"Aww, that's incorrect. The computer's number was {computer_number}\")\n",
        "\n",
        "    # Print current score\n",
        "    print(f\"Your score is now {score}\\n\")\n",
        "\n",
        "# Final message\n",
        "print(\"Thanks for playing!\")\n",
        "print(f\"Final score: {score}\")\n"
      ],
      "metadata": {
        "colab": {
          "base_uri": "https://localhost:8080/"
        },
        "id": "Tbrzw69bAely",
        "outputId": "4bc50e4f-0ad5-47b3-9e46-949dad651711"
      },
      "execution_count": null,
      "outputs": [
        {
          "output_type": "stream",
          "name": "stdout",
          "text": [
            "Welcome to the High-Low Game!😍🎉\n",
            "--------------------------------\n",
            "Round 1\n",
            "Your number is 57\n",
            "Do you think your number is higher or lower than the computer's?: 70\n",
            "Please enter either 'higher' or 'lower'.\n",
            "Do you think your number is higher or lower than the computer's?: lower\n",
            "You were right! The computer's number was 99\n",
            "Your score is now 1\n",
            "\n",
            "Round 2\n",
            "Your number is 92\n",
            "Do you think your number is higher or lower than the computer's?: higher\n",
            "You were right! The computer's number was 85\n",
            "Your score is now 2\n",
            "\n",
            "Round 3\n",
            "Your number is 40\n",
            "Do you think your number is higher or lower than the computer's?: lower\n",
            "You were right! The computer's number was 89\n",
            "Your score is now 3\n",
            "\n",
            "Thanks for playing!\n",
            "Final score: 3\n"
          ]
        }
      ]
    },
    {
      "cell_type": "markdown",
      "source": [
        "# **Intro to Python**"
      ],
      "metadata": {
        "id": "XET1ZqrhA5aE"
      }
    },
    {
      "cell_type": "markdown",
      "source": [
        "**Planetary Weight Calculator Milestone #1 (Mars Weight)**"
      ],
      "metadata": {
        "id": "2tc8xYMdA8P4"
      }
    },
    {
      "cell_type": "code",
      "source": [
        "# Get user input for Earth weight\n",
        "earth_weight = float(input(\"Enter a weight on Earth: \"))\n",
        "\n",
        "# Calculate Mars weight (37.8% of Earth weight)\n",
        "mars_weight = round(earth_weight * 0.378, 2)\n",
        "\n",
        "# Print result\n",
        "print(f\"The equivalent on Mars: {mars_weight}\")"
      ],
      "metadata": {
        "colab": {
          "base_uri": "https://localhost:8080/"
        },
        "id": "XcwkkAJBA_df",
        "outputId": "629f7652-9859-4d54-d0be-69ea27f42aea"
      },
      "execution_count": null,
      "outputs": [
        {
          "output_type": "stream",
          "name": "stdout",
          "text": [
            "Enter a weight on Earth: 90\n",
            "The equivalent on Mars: 34.02\n"
          ]
        }
      ]
    },
    {
      "cell_type": "markdown",
      "source": [
        "**Milestone #2 (Weight on Any Planet)**"
      ],
      "metadata": {
        "id": "Yzal21CeBHb-"
      }
    },
    {
      "cell_type": "code",
      "source": [
        "# Gravity factors for each planet\n",
        "gravity_factors = {\n",
        "    \"Mercury\": 0.376,\n",
        "    \"Venus\": 0.889,\n",
        "    \"Mars\": 0.378,\n",
        "    \"Jupiter\": 2.36,\n",
        "    \"Saturn\": 1.081,\n",
        "    \"Uranus\": 0.815,\n",
        "    \"Neptune\": 1.14\n",
        "}\n",
        "\n",
        "# Get user input\n",
        "earth_weight = float(input(\"Enter a weight on Earth: \"))\n",
        "planet = input(\"Enter a planet: \").strip()\n",
        "\n",
        "# Calculate equivalent weight\n",
        "equivalent_weight = round(earth_weight * gravity_factors[planet], 2)\n",
        "\n",
        "# Print result\n",
        "print(f\"The equivalent weight on {planet}: {equivalent_weight}\")\n"
      ],
      "metadata": {
        "colab": {
          "base_uri": "https://localhost:8080/"
        },
        "id": "qcrovnpDBJ7S",
        "outputId": "921625ef-4e4b-47b4-d09b-a678ba244917"
      },
      "execution_count": null,
      "outputs": [
        {
          "output_type": "stream",
          "name": "stdout",
          "text": [
            "Enter a weight on Earth: 80\n",
            "Enter a planet: Mars\n",
            "The equivalent weight on Mars: 30.24\n"
          ]
        }
      ]
    },
    {
      "cell_type": "markdown",
      "source": [
        "# **Lists and Dicts**"
      ],
      "metadata": {
        "id": "7ZuwWLChBVeb"
      }
    },
    {
      "cell_type": "markdown",
      "source": [
        "**Problem #1: List Practice**"
      ],
      "metadata": {
        "id": "jyuCvSKNBYDk"
      }
    },
    {
      "cell_type": "code",
      "source": [
        "def main():\n",
        "    # Create a list called fruit_list that contains the following fruits\n",
        "    fruit_list = ['apple', 'banana', 'orange', 'grape', 'pineapple']\n",
        "\n",
        "    # Print the length of the list\n",
        "    print(\"Length of the list:\", len(fruit_list))\n",
        "\n",
        "    # Add 'mango' at the end of the list\n",
        "    fruit_list.append('mango')\n",
        "\n",
        "    # Print the updated list\n",
        "    print(\"Updated list:\", fruit_list)\n",
        "\n",
        "# Call the main function\n",
        "main()\n"
      ],
      "metadata": {
        "colab": {
          "base_uri": "https://localhost:8080/"
        },
        "id": "LJiL4F4fBa31",
        "outputId": "c82f6e18-5945-4715-af98-ff9444e19d84"
      },
      "execution_count": null,
      "outputs": [
        {
          "output_type": "stream",
          "name": "stdout",
          "text": [
            "Length of the list: 5\n",
            "Updated list: ['apple', 'banana', 'orange', 'grape', 'pineapple', 'mango']\n"
          ]
        }
      ]
    },
    {
      "cell_type": "markdown",
      "source": [
        "# **Problem #2: Index Game**"
      ],
      "metadata": {
        "id": "F5oN9Tr5Boir"
      }
    },
    {
      "cell_type": "code",
      "source": [
        "def access_element(lst, index):\n",
        "    \"\"\"Returns the element at the given index or an error message if out of range.\"\"\"\n",
        "    if 0 <= index < len(lst):\n",
        "        return lst[index]\n",
        "    return \"Index out of range.\"\n",
        "\n",
        "def modify_element(lst, index, new_value):\n",
        "    \"\"\"Replaces an element at a given index with a new value if index is valid.\"\"\"\n",
        "    if 0 <= index < len(lst):\n",
        "        lst[index] = new_value\n",
        "        return \"Element modified successfully.\"\n",
        "    return \"Index out of range.\"\n",
        "\n",
        "def slice_list(lst, start, end):\n",
        "    \"\"\"Returns a slice of the list from start index to end index.\"\"\"\n",
        "    return lst[start:end] if 0 <= start < len(lst) and 0 <= end <= len(lst) else \"Invalid range.\"\n",
        "\n",
        "def main():\n",
        "    my_list = [\"apple\", \"banana\", \"cherry\", \"date\", \"elderberry\"]\n",
        "\n",
        "    while True:\n",
        "        print(\"\\nCurrent list:\", my_list)\n",
        "        print(\"Choose an operation:\")\n",
        "        print(\"1. Access an element\")\n",
        "        print(\"2. Modify an element\")\n",
        "        print(\"3. Slice the list\")\n",
        "        print(\"4. Exit\")\n",
        "\n",
        "        choice = input(\"Enter your choice (1-4): \")\n",
        "\n",
        "        if choice == \"1\":\n",
        "            index = int(input(\"Enter the index: \"))\n",
        "            print(\"Result:\", access_element(my_list, index))\n",
        "\n",
        "        elif choice == \"2\":\n",
        "            index = int(input(\"Enter the index: \"))\n",
        "            new_value = input(\"Enter the new value: \")\n",
        "            print(modify_element(my_list, index, new_value))\n",
        "\n",
        "        elif choice == \"3\":\n",
        "            start = int(input(\"Enter the start index: \"))\n",
        "            end = int(input(\"Enter the end index: \"))\n",
        "            print(\"Sliced list:\", slice_list(my_list, start, end))\n",
        "\n",
        "        elif choice == \"4\":\n",
        "            print(\"Exiting the game. Goodbye!\")\n",
        "            break\n",
        "\n",
        "        else:\n",
        "            print(\"Invalid choice. Please enter 1-4.\")\n",
        "\n",
        "main()\n"
      ],
      "metadata": {
        "colab": {
          "base_uri": "https://localhost:8080/"
        },
        "id": "92m0WyXVBrmo",
        "outputId": "823a9756-253d-4535-c1aa-e952db5c5309"
      },
      "execution_count": null,
      "outputs": [
        {
          "output_type": "stream",
          "name": "stdout",
          "text": [
            "\n",
            "Current list: ['apple', 'banana', 'cherry', 'date', 'elderberry']\n",
            "Choose an operation:\n",
            "1. Access an element\n",
            "2. Modify an element\n",
            "3. Slice the list\n",
            "4. Exit\n",
            "Enter your choice (1-4): 1\n",
            "Enter the index: 2\n",
            "Result: cherry\n",
            "\n",
            "Current list: ['apple', 'banana', 'cherry', 'date', 'elderberry']\n",
            "Choose an operation:\n",
            "1. Access an element\n",
            "2. Modify an element\n",
            "3. Slice the list\n",
            "4. Exit\n",
            "Enter your choice (1-4): 4\n",
            "Exiting the game. Goodbye!\n"
          ]
        }
      ]
    }
  ]
}
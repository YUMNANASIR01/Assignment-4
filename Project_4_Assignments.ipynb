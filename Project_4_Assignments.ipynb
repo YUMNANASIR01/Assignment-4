{
  "nbformat": 4,
  "nbformat_minor": 0,
  "metadata": {
    "colab": {
      "provenance": []
    },
    "kernelspec": {
      "name": "python3",
      "display_name": "Python 3"
    },
    "language_info": {
      "name": "python"
    }
  },
  "cells": [
    {
      "cell_type": "markdown",
      "source": [
        "#  **00_intro_python**"
      ],
      "metadata": {
        "id": "LvvfbVb8K80o"
      }
    },
    {
      "cell_type": "markdown",
      "source": [
        "#   **Assignments 00 to 05**"
      ],
      "metadata": {
        "id": "PVqxx_owpHjw"
      }
    },
    {
      "cell_type": "markdown",
      "source": [
        "**01 Add to Numbers**"
      ],
      "metadata": {
        "id": "Ny6cUpbyKjwp"
      }
    },
    {
      "cell_type": "code",
      "source": [
        "#01_add_two_numbers\n",
        "\n",
        "#Write a Python program that takes two integer inputs from the user and calculates their sum. The program should perform the following tasks:\n",
        "#Prompt the user to enter the first number.\n",
        "#Read the input and convert it to an integer.\n",
        "#Prompt the user to enter the second number.\n",
        "#Read the input and convert it to an integer.\n",
        "#Calculate the sum of the two numbers.\n",
        "#Print the total sum with an appropriate message.\n",
        "#The provided solution demonstrates a working implementation of this problem, where the main() function guides the user through the process of entering two numbers and displays their sum.\n",
        "\n",
        "\n",
        "def main():\n",
        "    # Prompt the user for the first number and convert it to an integer\n",
        "    num1 = int(input(\"Enter the first number: \"))\n",
        "\n",
        "    # Prompt the user for the second number and convert it to an integer\n",
        "    num2 = int(input(\"Enter the second number: \"))\n",
        "\n",
        "    # Calculate the sum of the two numbers\n",
        "    total = num1 + num2\n",
        "\n",
        "    # Print the result with an appropriate message\n",
        "    print(f\"The sum is {total}\")\n",
        "\n",
        "if __name__ == \"__main__\":\n",
        "    main()\n",
        "\n",
        "\n",
        "\n",
        "\n"
      ],
      "metadata": {
        "id": "QSHsC-N8peK6",
        "colab": {
          "base_uri": "https://localhost:8080/"
        },
        "outputId": "931b7b2e-a77d-449e-a8c8-37d9fc2c49da"
      },
      "execution_count": null,
      "outputs": [
        {
          "output_type": "stream",
          "name": "stdout",
          "text": [
            "Enter the first number: 4\n",
            "Enter the second number: 5\n",
            "The sum is 9\n"
          ]
        }
      ]
    },
    {
      "cell_type": "code",
      "source": [
        "#02_agreement_bot\n",
        "\n",
        "#Write a program which asks the user what their favorite animal is, and then always responds with \"My favorite animal is also ___!\" (the blank should be filled in with the user-inputted animal, of course).\n",
        "#Here's a sample run of the program (user input is in bold italics - note the space between the prompt and the user input!):\n",
        "#What's your favorite animal? cow\n",
        "#My favorite animal is also cow!\n",
        "\n",
        "\n",
        "def main():\n",
        "    animal = input(\"What's your favorite animal? \")\n",
        "    print(f\"My favorite animal is also {animal}!\")\n",
        "\n",
        "if __name__ == \"__main__\":\n",
        "    main()\n",
        "\n"
      ],
      "metadata": {
        "id": "q4hZbBHkpT5d",
        "colab": {
          "base_uri": "https://localhost:8080/"
        },
        "outputId": "2266f552-afd2-4ac4-9584-45bc88570e2a"
      },
      "execution_count": null,
      "outputs": [
        {
          "output_type": "stream",
          "name": "stdout",
          "text": [
            "What's your favorite animal? cat\n",
            "My favorite animal is also cat!\n"
          ]
        }
      ]
    },
    {
      "cell_type": "code",
      "source": [
        "#03_fahrenheit_to_celsius\n",
        "\n",
        "#Write a program which prompts the user for a temperature in Fahrenheit (this can be a number with decimal places!) and outputs the temperature converted to Celsius.\n",
        "#The Celsius scale is widely used to measure temperature, but places still use Fahrenheit. Fahrenheit is another unit for temperature, but the scale is different from Celsius -- for example, 0 degrees Celsius is 32 degrees Fahrenheit!\n",
        "#The equation you should use for converting from Fahrenheit to Celsius is the following:\n",
        "#degrees_celsius = (degrees_fahrenheit - 32) * 5.0/9.0\n",
        "#(Note. The .0 after the 5 and 9 matters in the line above!!!)\n",
        "#Here's a sample run of the program (user input is in bold italics):\n",
        "#Enter temperature in Fahrenheit: 76\n",
        "#Temperature: 76.0F = 24.444444444444443C\n",
        "\n",
        "\n",
        "def main():\n",
        "    fahrenheit = float(input(\"Enter temperature in Fahrenheit: \"))\n",
        "    celsius = (fahrenheit - 32) * 5.0 / 9.0\n",
        "    print(f\"Temperature: {fahrenheit}F = {celsius}C\")\n",
        "\n",
        "if __name__ == \"__main__\":\n",
        "    main()\n",
        "\n"
      ],
      "metadata": {
        "id": "fG1gl8Yho2jU",
        "colab": {
          "base_uri": "https://localhost:8080/"
        },
        "outputId": "35a88478-587b-4677-f214-085d4347038e"
      },
      "execution_count": null,
      "outputs": [
        {
          "output_type": "stream",
          "name": "stdout",
          "text": [
            "Enter temperature in Fahrenheit: 100\n",
            "Temperature: 100.0F = 37.77777777777778C\n"
          ]
        }
      ]
    },
    {
      "cell_type": "code",
      "source": [
        "#04_how_old_are_they\n",
        "\n",
        "#Write a program to solve this age-related riddle!\n",
        "# Anton, Beth, Chen, Drew, and Ethan are all friends. Their ages are as follows:\n",
        "# Anton is 21 years old.\n",
        "# Beth is 6 years older than Anton.\n",
        "# Chen is 20 years older than Beth.\n",
        "# Drew is as old as Chen's age plus Anton's age.\n",
        "# Ethan is the same age as Chen.\n",
        "# Your code should store each person's age to a variable and print their names and ages at the end. The autograder is sensitive to capitalization and punctuation, be careful! Your solution should look like this (the below numbers are made up -- your solution should have the correct values!):\n",
        "\n",
        "# Anton is 3\n",
        "# Beth is 4\n",
        "# Chen is 5\n",
        "# Drew is 6\n",
        "# Ethan is 7\n",
        "\n",
        "\n",
        "# Calculate each person's age based on the given relationships\n",
        "anton = 21\n",
        "beth = anton + 6\n",
        "chen = beth + 20\n",
        "drew = chen + anton\n",
        "ethan = chen\n",
        "\n",
        "# Print each name and age in the specified format\n",
        "print(f\"Anton is {anton}\")\n",
        "print(f\"Beth is {beth}\")\n",
        "print(f\"Chen is {chen}\")\n",
        "print(f\"Drew is {drew}\")\n",
        "print(f\"Ethan is {ethan}\")"
      ],
      "metadata": {
        "id": "NrdgLN5CoXJ_",
        "colab": {
          "base_uri": "https://localhost:8080/"
        },
        "outputId": "a417946d-6e63-4646-972a-3d1d0124087a"
      },
      "execution_count": null,
      "outputs": [
        {
          "output_type": "stream",
          "name": "stdout",
          "text": [
            "Anton is 21\n",
            "Beth is 27\n",
            "Chen is 47\n",
            "Drew is 68\n",
            "Ethan is 47\n"
          ]
        }
      ]
    },
    {
      "cell_type": "code",
      "source": [
        "#05_triangle_perimeter\n",
        "\n",
        "#Prompt the user to enter the lengths of each side of a triangle and then calculate and print the perimeter of the triangle (the sum of all of the side lengths).\n",
        "#Here's a sample run of the program (user input is in bold italics):\n",
        "#What is the length of side 1? 3\n",
        "#What is the length of side 2? 4\n",
        "#What is the length of side 3? 5.5\n",
        "#The perimeter of the triangle is 12.5\n",
        "\n",
        "def main():\n",
        "    # Prompt for each side and convert to float\n",
        "    side1 = float(input(\"What is the length of side 1? \"))\n",
        "    side2 = float(input(\"What is the length of side 2? \"))\n",
        "    side3 = float(input(\"What is the length of side 3? \"))\n",
        "\n",
        "    # Calculate the perimeter\n",
        "    perimeter = side1 + side2 + side3\n",
        "\n",
        "    # Print the result\n",
        "    print(f\"The perimeter of the triangle is {perimeter}\")\n",
        "\n",
        "if __name__ == \"__main__\":\n",
        "    main()\n"
      ],
      "metadata": {
        "id": "xuY-acF1ooTq",
        "colab": {
          "base_uri": "https://localhost:8080/"
        },
        "outputId": "a5b9b325-aa88-4beb-df04-0cd1719e50cc"
      },
      "execution_count": null,
      "outputs": [
        {
          "output_type": "stream",
          "name": "stdout",
          "text": [
            "What is the length of side 1? 20\n",
            "What is the length of side 2? 30\n",
            "What is the length of side 3? 40\n",
            "The perimeter of the triangle is 90.0\n"
          ]
        }
      ]
    },
    {
      "cell_type": "code",
      "source": [
        "#06_square_number\n",
        "\n",
        "#Ask the user for a number and print its square (the product of the number times itself).\n",
        "# Here's a sample run of the program (user input is in bold italics):\n",
        "# Type a number to see its square: 4\n",
        "# 4.0 squared is 16.0\n",
        "\n",
        "def main():\n",
        "    num = float(input(\"Type a number to see its square: \"))\n",
        "    square = num * num\n",
        "    print(f\"{num} squared is {square}\")\n",
        "\n",
        "if __name__ == \"__main__\":\n",
        "    main()\n"
      ],
      "metadata": {
        "colab": {
          "base_uri": "https://localhost:8080/"
        },
        "id": "KQLsqruO3Tj7",
        "outputId": "2c5c90ba-e560-4840-fc8f-c3d7ec72032c"
      },
      "execution_count": null,
      "outputs": [
        {
          "output_type": "stream",
          "name": "stdout",
          "text": [
            "Type a number to see its square: 3\n",
            "3.0 squared is 9.0\n"
          ]
        }
      ]
    },
    {
      "cell_type": "markdown",
      "source": [
        "**01_expressions**"
      ],
      "metadata": {
        "id": "4ZhlnXml4V78"
      }
    },
    {
      "cell_type": "code",
      "source": [
        "#01_dicesimulator\n",
        "\n",
        "#Simulate rolling two dice, three times. Prints the results of each die roll. This program is used to show how variable scope works.\n",
        "\n",
        "import random\n",
        "\n",
        "def roll_dice():\n",
        "    # Local variables - exist only inside this function\n",
        "    die1 = random.randint(1, 6)\n",
        "    die2 = random.randint(1, 6)\n",
        "    print(f\"Roll: {die1} and {die2}\")\n",
        "\n",
        "# Global scope - calling the function 3 times\n",
        "print(\"Rolling two dice three times:\")\n",
        "for _ in range(3):\n",
        "    roll_dice()\n",
        "\n",
        "# This would cause an error if uncommented - die1/die2 only exist in the function\n",
        "# print(die1, die2)"
      ],
      "metadata": {
        "colab": {
          "base_uri": "https://localhost:8080/"
        },
        "id": "JtZqRamJ38Hv",
        "outputId": "58450994-cb61-40fb-8b93-b4cdb5fc63ee"
      },
      "execution_count": null,
      "outputs": [
        {
          "output_type": "stream",
          "name": "stdout",
          "text": [
            "Rolling two dice three times:\n",
            "Roll: 5 and 3\n",
            "Roll: 3 and 3\n",
            "Roll: 5 and 6\n"
          ]
        }
      ]
    },
    {
      "cell_type": "code",
      "source": [
        "#02_e=mc2\n",
        "\n",
        "# Write a program that continually reads in mass from the user and then outputs the equivalent energy using Einstein's mass-energy equivalence formula (E stands for energy, m stands for mass, and C is the speed of light:\n",
        "# E = m * c**2\n",
        "# Almost 100 years ago, Albert Einstein famously discovered that mass and energy are interchangeable and are related by the above equation. You should ask the user for mass (m) in kilograms and use a constant value for the speed of light -- C = 299792458 m/s.\n",
        "# Here's a sample run of the program (user input is in bold italics):\n",
        "# Enter kilos of mass: 100\n",
        "# e = m * C^2...\n",
        "# m = 100.0 kg\n",
        "# C = 299792458 m/s\n",
        "# 8.987551787368176e+18 joules of energy!\n",
        "\n",
        "\n",
        "# Read mass input from the user\n",
        "mass = float(input(\"Enter kilos of mass: \"))\n",
        "\n",
        "# Constants\n",
        "C = 299792458  # Speed of light in m/s\n",
        "\n",
        "# Calculate energy using E = mc^2\n",
        "energy = mass * (C ** 2)\n",
        "\n",
        "# Print the results in the specified format\n",
        "print(\"e = m * C^2...\")\n",
        "print(f\"m = {mass:.1f} kg\")\n",
        "print(f\"C = {C} m/s\")\n",
        "print(f\"{energy} joules of energy!\")\n"
      ],
      "metadata": {
        "colab": {
          "base_uri": "https://localhost:8080/"
        },
        "id": "METkDPmy5NPM",
        "outputId": "4555b863-76be-4b6b-d015-c22d35d21360"
      },
      "execution_count": null,
      "outputs": [
        {
          "output_type": "stream",
          "name": "stdout",
          "text": [
            "Enter kilos of mass: 98\n",
            "e = m * C^2...\n",
            "m = 98.0 kg\n",
            "C = 299792458 m/s\n",
            "8.807800751620813e+18 joules of energy!\n"
          ]
        }
      ]
    },
    {
      "cell_type": "code",
      "source": [
        "#03_feet_to_inches\n",
        "\n",
        "#Converts feet to inches. Feet is an American unit of measurement. There are 12 inches per foot. Foot is the singular, and feet is the plural.\n",
        "\n",
        "# Read the number of feet from the user\n",
        "feet = float(input(\"Enter the number of feet: \"))\n",
        "\n",
        "# Calculate the equivalent inches\n",
        "inches = feet * 12\n",
        "\n",
        "# Determine if the unit should be 'foot' or 'feet'\n",
        "if feet == 1.0:\n",
        "    unit = \"foot\"\n",
        "else:\n",
        "    unit = \"feet\"\n",
        "\n",
        "# Format feet to remove .0 if it's a whole number\n",
        "display_feet = int(feet) if feet.is_integer() else feet\n",
        "\n",
        "# Format inches similarly\n",
        "display_inches = int(inches) if inches.is_integer() else inches\n",
        "\n",
        "# Print the result\n",
        "print(f\"{display_feet} {unit} is {display_inches} inches.\")"
      ],
      "metadata": {
        "id": "fser6U8M50WK",
        "colab": {
          "base_uri": "https://localhost:8080/"
        },
        "outputId": "c4b13e58-fdf2-43ef-ff84-91d7a20f2ab8"
      },
      "execution_count": null,
      "outputs": [
        {
          "output_type": "stream",
          "name": "stdout",
          "text": [
            "Enter the number of feet: 7\n",
            "7 feet is 84 inches.\n"
          ]
        }
      ]
    },
    {
      "cell_type": "code",
      "source": [
        "#04_pythagorean_theorem\n",
        "\n",
        "#Write a program that asks the user for the lengths of the two perpendicular sides of a right triangle and outputs the length of the third side (the hypotenuse) using the Pythagorean theorem!\n",
        "# The Pythagorean theorem, named after the ancient Greek thinker, Pythagoras, is a fundamental relation in geometry. It states that in a right triangle, the square of the hypotenuse is equal to the sum of the square of the other two sides.\n",
        "# For instance, let's consider a right triangle ABC, with the right angle located at C. According to the Pythagorean theorem:\n",
        "# BC ** 2 = AB ** 2 + AC ** 2\n",
        "# Your code should read in the lengths of the sides AB and AC, and that outputs the length of the hypotenuse (BC). You will probably find math.sqrt() to be useful.\n",
        "# Here's a sample run of the program (user input is in bold italics):\n",
        "# Enter the length of AB: 3\n",
        "# Enter the length of AC: 4\n",
        "# The length of BC (the hypotenuse) is: 5.0\n",
        "\n",
        "\n",
        "import math\n",
        "\n",
        "# Read the lengths of the two perpendicular sides\n",
        "ab = float(input(\"Enter the length of AB: \"))\n",
        "ac = float(input(\"Enter the length of AC: \"))\n",
        "\n",
        "# Calculate the hypotenuse using the Pythagorean theorem\n",
        "hypotenuse = math.sqrt(ab ** 2 + ac ** 2)\n",
        "\n",
        "# Print the result with the required message\n",
        "print(f\"The length of BC (the hypotenuse) is: {hypotenuse}\")"
      ],
      "metadata": {
        "colab": {
          "base_uri": "https://localhost:8080/"
        },
        "id": "QN0FJS1w6xoD",
        "outputId": "29346d64-4457-48b9-b786-bbe9ba24f6e4"
      },
      "execution_count": null,
      "outputs": [
        {
          "output_type": "stream",
          "name": "stdout",
          "text": [
            "Enter the length of AB: 29\n",
            "Enter the length of AC: 60\n",
            "The length of BC (the hypotenuse) is: 66.64082832618455\n"
          ]
        }
      ]
    },
    {
      "cell_type": "code",
      "source": [
        "#05_remainder_division\n",
        "\n",
        "#Ask the user for two numbers, one at a time, and then print the result of dividing the first number by the second and also the remainder of the division.\n",
        "# Here's a sample run of the program (user input is in bold italics):\n",
        "# Please enter an integer to be divided: 5\n",
        "# Please enter an integer to divide by: 3\n",
        "# The result of this division is 1 with a remainder of 2\n",
        "\n",
        "# Prompt the user for the two integers\n",
        "dividend = int(input(\"Please enter an integer to be divided: \"))\n",
        "divisor = int(input(\"Please enter an integer to divide by: \"))\n",
        "\n",
        "# Calculate the quotient and remainder\n",
        "quotient = dividend // divisor\n",
        "remainder = dividend % divisor\n",
        "\n",
        "# Print the result\n",
        "print(f\"The result of this division is {quotient} with a remainder of {remainder}\")\n"
      ],
      "metadata": {
        "colab": {
          "base_uri": "https://localhost:8080/"
        },
        "id": "RQsiNcHU7fKo",
        "outputId": "2504c902-2d52-478d-d45c-59808db333a0"
      },
      "execution_count": null,
      "outputs": [
        {
          "output_type": "stream",
          "name": "stdout",
          "text": [
            "Please enter an integer to be divided: 19\n",
            "Please enter an integer to divide by: 3\n",
            "The result of this division is 6 with a remainder of 1\n"
          ]
        }
      ]
    },
    {
      "cell_type": "code",
      "source": [
        "#06_rolldice\n",
        "\n",
        "#Simulate rolling two dice, and prints results of each roll as well as the total.\n",
        "\n",
        "import random\n",
        "\n",
        "# Simulate rolling two dice\n",
        "die1 = random.randint(1, 6)\n",
        "die2 = random.randint(1, 6)\n",
        "total = die1 + die2\n",
        "\n",
        "# Print the results\n",
        "print(f\"First die: {die1}\")\n",
        "print(f\"Second die: {die2}\")\n",
        "print(f\"Total: {total}\")"
      ],
      "metadata": {
        "colab": {
          "base_uri": "https://localhost:8080/"
        },
        "id": "eKCBMcP77jFD",
        "outputId": "021a04f7-4629-4eba-f25a-4e53e62fe2f3"
      },
      "execution_count": null,
      "outputs": [
        {
          "output_type": "stream",
          "name": "stdout",
          "text": [
            "First die: 3\n",
            "Second die: 5\n",
            "Total: 8\n"
          ]
        }
      ]
    },
    {
      "cell_type": "code",
      "source": [
        "#06_seconds_in_year\n",
        "\n",
        "#Use Python to calculate the number of seconds in a year, and tell the user what the result is in a nice print statement that looks like this (of course the value 5 should be the calculated number instead):\n",
        "#There are 5 seconds in a year!\n",
        "#You should use constants for this exercise -- there are 365 days in a year, 24 hours in a day, 60 minutes in an hour, and 60 seconds per minute.\n",
        "\n",
        "\n",
        "# Constants for time calculations\n",
        "DAYS_IN_YEAR = 365\n",
        "HOURS_IN_DAY = 24\n",
        "MINUTES_IN_HOUR = 60\n",
        "SECONDS_IN_MINUTE = 60\n",
        "\n",
        "# Calculate total seconds\n",
        "total_seconds = DAYS_IN_YEAR * HOURS_IN_DAY * MINUTES_IN_HOUR * SECONDS_IN_MINUTE\n",
        "\n",
        "# Display result in specified format\n",
        "print(f\"There are {total_seconds} seconds in a year!\")\n"
      ],
      "metadata": {
        "colab": {
          "base_uri": "https://localhost:8080/"
        },
        "id": "_LpgGQvl8br8",
        "outputId": "03fbfb17-5d76-4e5f-fe15-9323d978b6f1"
      },
      "execution_count": null,
      "outputs": [
        {
          "output_type": "stream",
          "name": "stdout",
          "text": [
            "There are 31536000 seconds in a year!\n"
          ]
        }
      ]
    },
    {
      "cell_type": "code",
      "source": [
        "#07_tiny_mad_lib\n",
        "\n",
        "# Write a program which prompts the user for an adjective, then a noun, then a verb, and then prints a fun sentence with those words!\n",
        "# Mad Libs is a word game where players are prompted for one word at a time, and the words are eventually filled into the blanks of a word template to make an entertaining story! We've provided you with the beginning of a sentence (the SENTENCE_START constant) which will end in a user-inputted adjective, noun, and then verb.\n",
        "# Here's a sample run (user input is in bold italics):\n",
        "# Please type an adjective and press enter. tiny\n",
        "# Please type a noun and press enter. plant\n",
        "# Please type a verb and press enter. fly\n",
        "# Code in Place is fun. I learned to program and used Python to make my tiny plant fly!\n",
        "\n",
        "sentence_start = \"Code in Place is fun. I learned to program and used Python to make my \"\n",
        "\n",
        "# Prompt the user for each word type\n",
        "adjective = input(\"Please type an adjective and press enter. \")\n",
        "noun = input(\"Please type a noun and press enter. \")\n",
        "verb = input(\"Please type a verb and press enter. \")\n",
        "\n",
        "# Construct and print the final sentence\n",
        "print(sentence_start + adjective + \" \" + noun + \" \" + verb + \"!\")"
      ],
      "metadata": {
        "colab": {
          "base_uri": "https://localhost:8080/"
        },
        "id": "AGsOEfRJ9WFM",
        "outputId": "39397ee0-c493-434a-8d09-f98d69a617ba"
      },
      "execution_count": null,
      "outputs": [
        {
          "output_type": "stream",
          "name": "stdout",
          "text": [
            "Please type an adjective and press enter. skill\n",
            "Please type a noun and press enter. toaster\n",
            "Please type a verb and press enter. scream\n",
            "Code in Place is fun. I learned to program and used Python to make my skill toaster scream!\n"
          ]
        }
      ]
    },
    {
      "cell_type": "markdown",
      "source": [
        "**02_lists**"
      ],
      "metadata": {
        "id": "sxuJilsB_pWJ"
      }
    },
    {
      "cell_type": "code",
      "source": [
        "#01_add_many_number\n",
        "\n",
        "#Write a function that takes a list of numbers and returns the sum of those numbers.\n",
        "\n",
        "def add_many_numbers(numbers: list[float]) -> float:\n",
        "    \"\"\"\n",
        "    Takes in a list of numbers and returns the sum of those numbers.\n",
        "    \"\"\"\n",
        "    return sum(numbers)\n",
        "\n",
        "def main():\n",
        "    numbers = [1, 2, 3, 4, 5]  # List of integers\n",
        "    sum_of_numbers = add_many_numbers(numbers)\n",
        "    print(sum_of_numbers)  # Output: 15\n",
        "\n",
        "    # Example with floats\n",
        "    numbers_float = [1.5, 2.5, 3.0]\n",
        "    sum_float = add_many_numbers(numbers_float)\n",
        "    print(sum_float)  # Output: 7.0\n",
        "\n",
        "if __name__ == '__main__':\n",
        "    main()"
      ],
      "metadata": {
        "colab": {
          "base_uri": "https://localhost:8080/"
        },
        "id": "mG1nkpKx_seh",
        "outputId": "b5f9f07e-d83b-4d5d-899f-3fbcac2f966a"
      },
      "execution_count": null,
      "outputs": [
        {
          "output_type": "stream",
          "name": "stdout",
          "text": [
            "15\n",
            "7.0\n"
          ]
        }
      ]
    },
    {
      "cell_type": "code",
      "source": [
        "#02_double_list\n",
        "\n",
        "# Write a program that doubles each element in a list of numbers. For example, if you start with this list:\n",
        "# numbers = [1, 2, 3, 4]\n",
        "# You should end with this list:\n",
        "# numbers = [2, 4, 6, 8]\n",
        "\n",
        "numbers = [1, 2, 3, 4]\n",
        "numbers = [num * 2 for num in numbers]\n",
        "print(numbers)\n"
      ],
      "metadata": {
        "colab": {
          "base_uri": "https://localhost:8080/"
        },
        "id": "E-DPdIE1BqPJ",
        "outputId": "6ad7c6f6-32a7-4f5c-e67a-f36ce39715f0"
      },
      "execution_count": null,
      "outputs": [
        {
          "output_type": "stream",
          "name": "stdout",
          "text": [
            "[2, 4, 6, 8]\n"
          ]
        }
      ]
    },
    {
      "cell_type": "code",
      "source": [
        "#03_erase_canvas\n",
        "\n",
        "# Implement an 'eraser' on a canvas.\n",
        "# The canvas consists of a grid of blue 'cells' which are drawn as rectangles on the screen. We then create an eraser rectangle which, when dragged around the canvas, sets all of the rectangles it is in contact with to white.\n",
        "\n",
        "import numpy as np\n",
        "import matplotlib.pyplot as plt\n",
        "from IPython.display import display, clear_output\n",
        "import ipywidgets as widgets\n",
        "\n",
        "# Create a 10x10 blue grid\n",
        "grid_size = 10\n",
        "grid = np.ones((grid_size, grid_size, 3))  # RGB colors\n",
        "grid[:, :] = [0, 0, 1]  # Blue color\n",
        "\n",
        "# Create figure\n",
        "fig, ax = plt.subplots()\n",
        "ax.set_xticks([])\n",
        "ax.set_yticks([])\n",
        "\n",
        "def draw_grid():\n",
        "    \"\"\"Update and show the grid\"\"\"\n",
        "    clear_output(wait=True)\n",
        "    plt.imshow(grid)\n",
        "    plt.show()\n",
        "\n",
        "def erase(event):\n",
        "    \"\"\"Erase cells where the mouse clicks\"\"\"\n",
        "    x, y = int(event.xdata), int(event.ydata)  # Get grid position\n",
        "    if 0 <= x < grid_size and 0 <= y < grid_size:\n",
        "        grid[y, x] = [1, 1, 1]  # Change to white\n",
        "        draw_grid()\n",
        "\n",
        "# Display the grid\n",
        "draw_grid()\n",
        "\n",
        "# Add interactive erasing\n",
        "fig.canvas.mpl_connect('button_press_event', erase)"
      ],
      "metadata": {
        "colab": {
          "base_uri": "https://localhost:8080/",
          "height": 423
        },
        "id": "-OXuR5dvGjww",
        "outputId": "d0627a36-df06-4a79-e0f5-fcbb765d720e"
      },
      "execution_count": null,
      "outputs": [
        {
          "output_type": "display_data",
          "data": {
            "text/plain": [
              "<Figure size 640x480 with 1 Axes>"
            ],
            "image/png": "[encoded data removed]"
          },
          "metadata": {}
        },
        {
          "output_type": "execute_result",
          "data": {
            "text/plain": [
              "11"
            ]
          },
          "metadata": {},
          "execution_count": 66
        }
      ]
    },
    {
      "cell_type": "code",
      "source": [
        "#04_flowing_with_data_structures\n",
        "\n",
        "# In the information flow lesson, we discussed using a variable storing a number as an example of scope. We saw that changes we made to the number inside a function did not stay unless we returned it. This is true for what we call immutable data types which include things like numbers and strings.\n",
        "# However, there are also mutable data types where changes stay even if we don't return anything. Some examples of mutable data types are lists and dictionaries. This means that you should be mindful when modifying lists and dictionaries within helper functions since their changes stay whether or not you return them.\n",
        "# To see this in action, fill out the add_three_copies(...) function which takes a list and some data and then adds three copies of the data to the list. Don't return anything and see what happens! Compare this process to the x = change(x) example and note the differences.\n",
        "# Here is an example run of this program (user input in bold italics):\n",
        "# Enter a message to copy: Hello world!\n",
        "# List before: []\n",
        "# List after: ['Hello world!', 'Hello world!', 'Hello world!']\n",
        "# (Note. The concept of immutable/mutable data types is called mutability. Be careful because different programming languages have different rules regarding mutability!)\n",
        "\n",
        "\n",
        "def add_three_copies(lst, data):\n",
        "    lst.extend([data] * 3)\n",
        "\n",
        "def main():\n",
        "    message = input(\"Enter a message to copy: \")\n",
        "    my_list = []\n",
        "    print(f\"List before: {my_list}\")\n",
        "    add_three_copies(my_list, message)\n",
        "    print(f\"List after: {my_list}\")\n",
        "\n",
        "if __name__ == '__main__':\n",
        "    main()\n",
        "\n",
        "\n"
      ],
      "metadata": {
        "colab": {
          "base_uri": "https://localhost:8080/"
        },
        "id": "EZ09Era8f4ng",
        "outputId": "5f48b39c-6997-402f-81b9-63d8b43cec86"
      },
      "execution_count": null,
      "outputs": [
        {
          "output_type": "stream",
          "name": "stdout",
          "text": [
            "Enter a message to copy: Hello\n",
            "List before: []\n",
            "List after: ['Hello', 'Hello', 'Hello']\n"
          ]
        }
      ]
    },
    {
      "cell_type": "code",
      "source": [
        "#05_get_first_element\n",
        "\n",
        "#Fill out the function get_first_element(lst) which takes in a list lst as a parameter and prints the first element in the list. The list is guaranteed to be non-empty. We've written some code for you which prompts the user to input the list one element at a ti\n",
        "\n",
        "def get_first_element(lst):\n",
        "    \"\"\"Prints the first element of the list.\"\"\"\n",
        "    print(lst[0])  # Print the first item\n",
        "\n",
        "def get_lst():\n",
        "    \"\"\"Takes user input to create a list.\"\"\"\n",
        "    lst = []\n",
        "    elem = input(\"Enter a list item (press enter to stop): \")\n",
        "    while elem != \"\":\n",
        "        lst.append(elem)\n",
        "        elem = input(\"Enter a list item (press enter to stop): \")\n",
        "    return lst\n",
        "\n",
        "def main():\n",
        "    lst = get_lst()  # Get user input as a list\n",
        "    get_first_element(lst)  # Print the first element\n",
        "\n",
        "if __name__ == \"__main__\":\n",
        "    main()\n"
      ],
      "metadata": {
        "colab": {
          "base_uri": "https://localhost:8080/"
        },
        "id": "bRH_VecTg8Dp",
        "outputId": "f6adecff-4fd1-4a05-bfb5-ec530ecde36d"
      },
      "execution_count": null,
      "outputs": [
        {
          "output_type": "stream",
          "name": "stdout",
          "text": [
            "Enter a list item (press enter to stop): mango\n",
            "Enter a list item (press enter to stop): banana\n",
            "Enter a list item (press enter to stop): \n",
            "mango\n"
          ]
        }
      ]
    },
    {
      "cell_type": "code",
      "source": [
        "#06_get_last_element\n",
        "\n",
        "#Fill out the function get_last_element(lst) which takes in a list lst as a parameter and prints the last element in the list. The list is guaranteed to be non-empty, but there are no guarantees on its length.\n",
        "\n",
        "def get_last_element(lst):\n",
        "    print(lst[-1])\n",
        "\n",
        "def main():\n",
        "    # Example usage:\n",
        "    test_list = [1, 2, 3, 4, 5]\n",
        "    get_last_element(test_list)  # This should print 5\n",
        "\n",
        "if __name__ == '__main__':\n",
        "    main()\n"
      ],
      "metadata": {
        "id": "saBwh7nVhA9C",
        "colab": {
          "base_uri": "https://localhost:8080/"
        },
        "outputId": "6e145a7b-2fc4-4aff-b6af-cb4b4ffef6b8"
      },
      "execution_count": null,
      "outputs": [
        {
          "output_type": "stream",
          "name": "stdout",
          "text": [
            "5\n"
          ]
        }
      ]
    },
    {
      "cell_type": "code",
      "source": [
        "#07_get_list\n",
        "\n",
        "#Write a program which continuously asks the user to enter values which are added one by one into a list. When the user presses enter without typing anything, print the list.\n",
        "\n",
        "def main():\n",
        "    lst = []\n",
        "    while True:\n",
        "        value = input(\"Enter a value: \")\n",
        "        if value == '':\n",
        "            break\n",
        "        lst.append(value)\n",
        "    print(f\"Here's the list: {lst}\")\n",
        "\n",
        "if __name__ == '__main__':\n",
        "    main()\n"
      ],
      "metadata": {
        "colab": {
          "base_uri": "https://localhost:8080/"
        },
        "id": "LDrUBKEZjm-F",
        "outputId": "8ed6312c-32c6-40f7-d9e1-6f02e2af9990"
      },
      "execution_count": null,
      "outputs": [
        {
          "output_type": "stream",
          "name": "stdout",
          "text": [
            "Enter a value: apple\n",
            "Enter a value: banana\n",
            "Enter a value: cheery\n",
            "Enter a value: \n",
            "Here's the list: ['apple', 'banana', 'cheery']\n"
          ]
        }
      ]
    },
    {
      "cell_type": "code",
      "source": [
        "#08_shorten\n",
        "\n",
        "#Fill out the function shorten(lst) which removes elements from the end of lst, which is a list, and prints each item it removes until lst is MAX_LENGTH items long. If lst is already shorter than MAX_LENGTH you should leave it unchanged. We've written a main() function for you which gets a list and passes it into your function once you run the program. For the autograder to pass you will need MAX_LENGTH to be 3, but feel free to change it around to test your program.\n",
        "\n",
        "MAX_LENGTH = 3  # Maximum allowed length\n",
        "\n",
        "def shorten(lst):\n",
        "    while len(lst) > MAX_LENGTH:  # Remove items if list is too long\n",
        "        print(lst.pop())  # Print the removed item\n",
        "\n",
        "# Function to get a list from user input\n",
        "def get_lst():\n",
        "    lst = []\n",
        "    elem = input(\"Please enter an element of the list or press enter to stop: \")\n",
        "    while elem != \"\":\n",
        "        lst.append(elem)\n",
        "        elem = input(\"Please enter an element of the list or press enter to stop: \")\n",
        "    return lst\n",
        "\n",
        "def main():\n",
        "    lst = get_lst()\n",
        "    shorten(lst)\n",
        "\n",
        "if __name__ == '__main__':\n",
        "    main()\n",
        "\n",
        "\n"
      ],
      "metadata": {
        "colab": {
          "base_uri": "https://localhost:8080/"
        },
        "id": "_yifGmsujtdt",
        "outputId": "f33bc20f-11f3-4ab5-dd13-944afa972c00"
      },
      "execution_count": null,
      "outputs": [
        {
          "output_type": "stream",
          "name": "stdout",
          "text": [
            "Please enter an element of the list or press enter to stop: 1\n",
            "Please enter an element of the list or press enter to stop: 4\n",
            "Please enter an element of the list or press enter to stop: 6\n",
            "Please enter an element of the list or press enter to stop: 7\n",
            "Please enter an element of the list or press enter to stop: 8\n",
            "Please enter an element of the list or press enter to stop: \n",
            "8\n",
            "7\n"
          ]
        }
      ]
    },
    {
      "cell_type": "markdown",
      "source": [
        " **03_if_statements**"
      ],
      "metadata": {
        "id": "3ktlPGf9kz6c"
      }
    },
    {
      "cell_type": "code",
      "source": [
        "#01_print_events\n",
        "\n",
        "#Write a program that prints the first 20 even numbers. There are several correct approaches, but they all use a loop of some sort. Do no write twenty print statements\n",
        "# The first even number is 0:\n",
        "# 0 2 4 6 8 10 12 14 16 18 20 22 24 26 28 30 32 34 36 38\n",
        "\n",
        "def main():\n",
        "    for i in range(20):  # Loop 20 times (0 to 19)\n",
        "        print(i * 2)  # Print even numbers (0, 2, 4, ...)\n",
        "\n",
        "if __name__ == \"__main__\":\n",
        "    main()\n"
      ],
      "metadata": {
        "colab": {
          "base_uri": "https://localhost:8080/"
        },
        "id": "8FyRMCYbk3IV",
        "outputId": "915661d4-35cc-4383-bbcb-5245f4b3d955"
      },
      "execution_count": null,
      "outputs": [
        {
          "output_type": "stream",
          "name": "stdout",
          "text": [
            "0\n",
            "2\n",
            "4\n",
            "6\n",
            "8\n",
            "10\n",
            "12\n",
            "14\n",
            "16\n",
            "18\n",
            "20\n",
            "22\n",
            "24\n",
            "26\n",
            "28\n",
            "30\n",
            "32\n",
            "34\n",
            "36\n",
            "38\n"
          ]
        }
      ]
    },
    {
      "cell_type": "code",
      "source": [
        "#02_international_voting_age\n",
        "\n",
        "#Write a program which asks a user for their age and lets them know if they can or can't vote in the following three fictional countries.\n",
        "# Around the world, different countries have different voting ages. In the fictional countries of Peturksbouipo, Stanlau, and Mayengua, the voting ages are very different:\n",
        "# the voting age in Peturksbouipo is 16 (in real life, this is the voting age in, for example, Scotland, Ethiopia, and Austria)\n",
        "# the voting age in Stanlau is 25 (in real life this is the voting age in the United Arab Emirates)\n",
        "# the voting age in Mayengua is 48 (in real life, as far as we can tell, this isn't the voting age anywhere)\n",
        "# Your code should prompt the for their age and print whether or not they can vote in Peturksbouipo, Stanlau, or Mayengua.\n",
        "# Here's a sample run of the program (user input is in blue):\n",
        "# How old are you? 20 You can vote in Peturksbouipo where the voting age is 16. You cannot vote in Stanlau where the voting age is 25. You cannot vote in Mayengua where the voting age is 48.\n",
        "\n",
        "PETURKSBOUIPO_AGE = 16\n",
        "STANLAU_AGE = 25\n",
        "MAYENGUA_AGE = 48\n",
        "\n",
        "def main():\n",
        "    # Get the user's age\n",
        "    user_age = int(input(\"How old are you? \"))\n",
        "\n",
        "    # Check and print results for each country\n",
        "    for country, age in [(\"Peturksbouipo\", PETURKSBOUIPO_AGE),\n",
        "                         (\"Stanlau\", STANLAU_AGE),\n",
        "                         (\"Mayengua\", MAYENGUA_AGE)]:\n",
        "        if user_age >= age:\n",
        "            print(f\"You can vote in {country} where the voting age is {age}.\")\n",
        "        else:\n",
        "            print(f\"You cannot vote in {country} where the voting age is {age}.\")\n",
        "\n",
        "if __name__ == \"__main__\":\n",
        "    main()\n",
        "\n"
      ],
      "metadata": {
        "colab": {
          "base_uri": "https://localhost:8080/"
        },
        "id": "G5-uqzqlljGl",
        "outputId": "a160576c-2710-467c-966d-df2883713aa5"
      },
      "execution_count": null,
      "outputs": [
        {
          "output_type": "stream",
          "name": "stdout",
          "text": [
            "How old are you? 20\n",
            "You can vote in Peturksbouipo where the voting age is 16.\n",
            "You cannot vote in Stanlau where the voting age is 25.\n",
            "You cannot vote in Mayengua where the voting age is 48.\n"
          ]
        }
      ]
    },
    {
      "cell_type": "code",
      "source": [
        "#03_leap_year\n",
        "\n",
        "#Write a program that reads a year from the user and tells whether a given year is a leap year or not.\n",
        "# A leap year (also known as an intercalary year or bissextile year) is a calendar year that contains an additional day (or, in the case of a lunisolar calendar, a month) added to keep the calendar year synchronized with the astronomical year or seasonal year. In the Gregorian calendar, each leap year has 366 days instead of 365, by extending February to 29 days rather than the common 28.\n",
        "# In the Gregorian calendar, three criteria must be checked to identify leap years:\n",
        "# The given year must be evenly divisible by 4;\n",
        "# If the year can also be evenly divided by 100, it is NOT a leap year; unless:\n",
        "# The year is also evenly divisible by 400. Then it is a leap year.\n",
        "# Your code should use the above criteria to check for a leap year and then print either \"That's a leap year!\" or \"That's not a leap year.\"\n",
        "\n",
        "\n",
        "def main():\n",
        "    year = int(input(\"Enter a year: \"))\n",
        "    if (year % 4 == 0 and year % 100 != 0) or (year % 400 == 0):\n",
        "        print(\"That's a leap year!\")\n",
        "    else:\n",
        "        print(\"That's not a leap year.\")\n",
        "\n",
        "if __name__ == '__main__':\n",
        "    main()\n"
      ],
      "metadata": {
        "colab": {
          "base_uri": "https://localhost:8080/"
        },
        "id": "aB_lurXgmxf5",
        "outputId": "f672ca69-41a6-47d2-c48f-acb9cf4d601f"
      },
      "execution_count": null,
      "outputs": [
        {
          "output_type": "stream",
          "name": "stdout",
          "text": [
            "Enter a year: 2024\n",
            "That's a leap year!\n"
          ]
        }
      ]
    },
    {
      "cell_type": "code",
      "source": [
        "#04_tall_enough_to_ride.\n",
        "\n",
        "#Write a program which asks the user how tall they are and prints whether or not they're taller than a pre-specified minimum height.\n",
        "# In amusement parks (ah, the good old pre-pandemic days...), rollercoasters frequently have minimum height requirements for safety reasons. Assume for now that the minimum height is 50 of whatever height unit you'd like\n",
        "# Here's two sample runs (user input is in bold italics):\n",
        "# How tall are you? 100\n",
        "# You're tall enough to ride!\n",
        "# How tall are you? 10\n",
        "# You're not tall enough to ride, but maybe next year!\n",
        "# (For an extra challenge, write code which will repeatedly ask a user how tall they are and tell them whether or not they're tall enough to ride, until the user doesn't enter a height at all, in which case the program stops. Curious about how to do this? See the function tall_enough_extension() in the solution code!)\n",
        "\n",
        "MINIMUM_HEIGHT = 50  # Minimum height required to ride\n",
        "\n",
        "def main():\n",
        "    height = float(input(\"How tall are you? \"))\n",
        "    if height >= MINIMUM_HEIGHT:\n",
        "        print(\"You're tall enough to ride!\")\n",
        "    else:\n",
        "        print(\"You're not tall enough to ride, but maybe next year!\")\n",
        "\n",
        "if __name__ == '__main__':\n",
        "    main()"
      ],
      "metadata": {
        "colab": {
          "base_uri": "https://localhost:8080/"
        },
        "id": "P77UqIn8nSND",
        "outputId": "ce5eae99-0a7b-40b5-fd3a-462e2c8b5b41"
      },
      "execution_count": null,
      "outputs": [
        {
          "output_type": "stream",
          "name": "stdout",
          "text": [
            "How tall are you? 3\n",
            "You're not tall enough to ride, but maybe next year!\n"
          ]
        }
      ]
    },
    {
      "cell_type": "code",
      "source": [
        "#05_random_numbers\n",
        "\n",
        "#Print 10 random numbers in the range 1 to 100.\n",
        "#Here is an example run:\n",
        "#45 79 61 47 52 10 16 83 19 12\n",
        "#Each time you run your program you should get different numbers\n",
        "#81 76 70 1 27 63 96 100 32 92\n",
        "#Recall that the python random library has a function randint which returns an integer in the range set by the parameters (inclusive). For example this call would produce a random integer between 1 and 6, which could include 1 and could include 6:\n",
        "#value = random.randint(1, 6)\n",
        "\n",
        "import random\n",
        "\n",
        "def main():\n",
        "    numbers = [str(random.randint(1, 100)) for _ in range(10)]\n",
        "    print(' '.join(numbers))\n",
        "\n",
        "if __name__ == '__main__':\n",
        "    main()"
      ],
      "metadata": {
        "colab": {
          "base_uri": "https://localhost:8080/"
        },
        "id": "evnmOviip7uX",
        "outputId": "68e4325f-9825-4cae-eb8c-b894405d4dfe"
      },
      "execution_count": null,
      "outputs": [
        {
          "output_type": "stream",
          "name": "stdout",
          "text": [
            "42 7 57 91 76 21 70 97 59 88\n"
          ]
        }
      ]
    },
    {
      "cell_type": "markdown",
      "source": [
        "**04_dictionaries**"
      ],
      "metadata": {
        "id": "b--iQMeoqpXz"
      }
    },
    {
      "cell_type": "code",
      "source": [
        "#00_count_nums\n",
        "\n",
        "#This program counts the number of times each number appears in a list. It uses a dictionary to keep track of the information.\n",
        "#An example run of the program looks like this (user input is in blue):\n",
        "#Enter a number: 3 Enter a number: 4 Enter a number: 3 Enter a number: 6 Enter a number: 4 Enter a number: 3 Enter a number: 12 Enter a number: 3 appears 3 times. 4 appears 2 times. 6 appears 1 times. 12 appears 1 times.\n",
        "\n",
        "def main():\n",
        "    counts = {}\n",
        "    while True:\n",
        "        num_input = input(\"Enter a number: \").strip()\n",
        "        if not num_input:\n",
        "            break\n",
        "        num = int(num_input)\n",
        "        counts[num] = counts.get(num, 0) + 1\n",
        "\n",
        "    for number in sorted(counts):\n",
        "        print(f\"{number} appears {counts[number]} times.\")\n",
        "\n",
        "if __name__ == '__main__':\n",
        "    main()"
      ],
      "metadata": {
        "colab": {
          "base_uri": "https://localhost:8080/"
        },
        "id": "AoRT3BdiqrqJ",
        "outputId": "537a7f95-e313-4aff-f43a-c9e95d02672a"
      },
      "execution_count": null,
      "outputs": [
        {
          "output_type": "stream",
          "name": "stdout",
          "text": [
            "Enter a number: 8\n",
            "Enter a number: 8\n",
            "Enter a number: 9\n",
            "Enter a number: 3\n",
            "Enter a number: \n",
            "3 appears 1 times.\n",
            "8 appears 2 times.\n",
            "9 appears 1 times.\n"
          ]
        }
      ]
    },
    {
      "cell_type": "code",
      "source": [
        "#01_phonebook\n",
        "\n",
        "#In this program we show an example of using dictionaries to keep track of information in a phonebook.\n",
        "\n",
        "def read_phone_numbers():\n",
        "    \"\"\"\n",
        "    Asks the user for names and numbers to store in a phonebook (dictionary).\n",
        "    Returns the phonebook.\n",
        "    \"\"\"\n",
        "    phonebook = {}\n",
        "\n",
        "    while True:\n",
        "        name = input(\"Name: \")\n",
        "        if name == \"\":\n",
        "            break\n",
        "        number = input(\"Number: \")\n",
        "        phonebook[name] = number\n",
        "\n",
        "    return phonebook\n",
        "\n",
        "def print_phonebook(phonebook):\n",
        "    \"\"\"\n",
        "    Prints all the names and numbers in the phonebook.\n",
        "    \"\"\"\n",
        "    for name, number in phonebook.items():\n",
        "        print(f\"{name} -> {number}\")\n",
        "\n",
        "def lookup_numbers(phonebook):\n",
        "    \"\"\"\n",
        "    Allows the user to look up phone numbers in the phonebook by name.\n",
        "    \"\"\"\n",
        "    while True:\n",
        "        name = input(\"Enter name to lookup: \")\n",
        "        if name == \"\":\n",
        "            break\n",
        "        if name in phonebook:\n",
        "            print(phonebook[name])\n",
        "        else:\n",
        "            print(f\"{name} is not in the phonebook\")\n",
        "\n",
        "def main():\n",
        "    \"\"\"\n",
        "    Reads phone numbers, prints the phonebook, and allows lookups.\n",
        "    \"\"\"\n",
        "    phonebook = read_phone_numbers()\n",
        "    print_phonebook(phonebook)\n",
        "    lookup_numbers(phonebook)\n",
        "\n",
        "if __name__ == '__main__':\n",
        "    main()"
      ],
      "metadata": {
        "colab": {
          "base_uri": "https://localhost:8080/"
        },
        "id": "XTyrxi4nq3Kt",
        "outputId": "34b5ff5b-5c9c-44a0-dd7f-8fe808d5f5fd"
      },
      "execution_count": null,
      "outputs": [
        {
          "name": "stdout",
          "output_type": "stream",
          "text": [
            "Name: yumna\n",
            "Number: 987\n",
            "Name: nasir\n",
            "Number: 754\n",
            "Name: \n",
            "yumna -> 987\n",
            "nasir -> 754\n",
            "Enter name to lookup: yumna\n",
            "987\n",
            "Enter name to lookup: \n"
          ]
        }
      ]
    },
    {
      "cell_type": "code",
      "source": [
        "#02_pop_up_shop\n",
        "\n",
        "#There's a small fruit shop nearby your house that you like to buy from. Since you buy several fruit at a time, you want to keep track of how much the fruit will cost before you go. Luckily you wrote down what fruits were available and how much one of each fruit costs.\n",
        "# Write a program that loops through a dictionary of fruits, prompting the user to see how many of each fruit they want to buy, and then prints out the total combined cost of all of the fruits.\n",
        "# Here is an example run of the program (user input is in bold italics):\n",
        "# How many (apple) do you want?: 2\n",
        "# How many (durian) do you want?: 0\n",
        "# How many (jackfruit) do you want?: 1\n",
        "# How many (kiwi) do you want?: 0\n",
        "# How many (rambutan) do you want?: 1\n",
        "# How many (mango) do you want?: 3\n",
        "# Your total is $99.5\n",
        "\n",
        "def main():\n",
        "    fruits = {\n",
        "        'apple': 1.5,\n",
        "        'durian': 50,\n",
        "        'jackfruit': 80,\n",
        "        'kiwi': 1,\n",
        "        'rambutan': 1.5,\n",
        "        'mango': 5\n",
        "    }\n",
        "\n",
        "    total_cost = 0\n",
        "    for fruit in fruits:\n",
        "        price = fruits[fruit]\n",
        "        quantity = int(input(f\"How many ({fruit}) do you want to buy?: \"))\n",
        "        total_cost += price * quantity\n",
        "\n",
        "    print(f\"Your total is ${total_cost}\")\n",
        "\n",
        "if __name__ == '__main__':\n",
        "    main()"
      ],
      "metadata": {
        "colab": {
          "base_uri": "https://localhost:8080/"
        },
        "id": "HcTX0ntOr1O0",
        "outputId": "a3bf4a8e-a1d6-4dce-9e3f-89370d096fb7"
      },
      "execution_count": null,
      "outputs": [
        {
          "output_type": "stream",
          "name": "stdout",
          "text": [
            "How many (apple) do you want to buy?: 5\n",
            "How many (durian) do you want to buy?: 3\n",
            "How many (jackfruit) do you want to buy?: 2\n",
            "How many (kiwi) do you want to buy?: 1\n",
            "How many (rambutan) do you want to buy?: 9\n",
            "How many (mango) do you want to buy?: 8\n",
            "Your total is $372.0\n"
          ]
        }
      ]
    },
    {
      "cell_type": "code",
      "source": [
        "#03_powerful_passwords\n",
        "\n",
        "#You want to be safe online and use different passwords for different websites. However, you are forgetful at times and want to make a program that can match which password belongs to which website without storing the actual password!\n",
        "# This can be done via something called hashing. Hashing is when we take something and convert it into a different, unique identifier. This is done using a hash function. Luckily, there are several resources that can help us with this.\n",
        "# For example, using a hash function called SHA256(...) something as simple as\n",
        "# hello\n",
        "# can be hashed into a much more complex\n",
        "# 2cf24dba5fb0a30e26e83b2ac5b9e29e1b161e5c1fa7425e73043362938b9824\n",
        "# Fill out the login(...) function for a website that hashes their passwords. Login should return True if an email's stored password hash in stored_logins is the same as the hash of password_to_check.\n",
        "# (Hint. You will need to use the provided hash_password(...) function. You don't necessarily need to know how it works, just know that hash_password(...) returns the hash for the password!)\n",
        "\n",
        "# Sample stored logins with email as key and hashed passwords as values\n",
        "\n",
        "stored_logins = {\n",
        "    \"user@example.com\": \"5e884898da28047151d0e56f8dc6292773603d0d6a42e8b1b8f2d8c87f1a09b\",\n",
        "    \"test@example.com\": \"6dcd4ce23d88e2ee9568ba546c007c63f61b3f5d3e43b3c4c9f7e1a6f3fbc8b\"\n",
        "}\n",
        "\n",
        "def hash_password(password):\n",
        "    \"\"\"Simulates hashing a password using SHA256.\"\"\"\n",
        "    import hashlib\n",
        "    return hashlib.sha256(password.encode()).hexdigest()\n",
        "\n",
        "def login(email, password_to_check):\n",
        "    \"\"\"Checks if the hashed password matches the stored password hash for the email.\"\"\"\n",
        "    if email in stored_logins:\n",
        "        hashed_password = hash_password(password_to_check)\n",
        "        return stored_logins[email] == hashed_password\n",
        "    return False\n",
        "\n",
        "# Example usage\n",
        "if __name__ == \"__main__\":\n",
        "    email = input(\"Enter your email: \")\n",
        "    password = input(\"Enter your password: \")\n",
        "\n",
        "    if login(email, password):\n",
        "        print(\"Login successful!\")\n",
        "    else:\n",
        "        print(\"Login failed. Incorrect email or password.\")\n"
      ],
      "metadata": {
        "colab": {
          "base_uri": "https://localhost:8080/"
        },
        "id": "RW893P7rsM3L",
        "outputId": "b781c748-a8db-4583-b4a1-bce7e6f58d82"
      },
      "execution_count": null,
      "outputs": [
        {
          "output_type": "stream",
          "name": "stdout",
          "text": [
            "Enter your email: yumanasir719@gmail.com\n",
            "Enter your password: q123\n",
            "Login failed. Incorrect email or password.\n"
          ]
        }
      ]
    },
    {
      "cell_type": "markdown",
      "source": [
        " **05_loops_control_flow**"
      ],
      "metadata": {
        "id": "naJEq5LMtOHa"
      }
    },
    {
      "cell_type": "code",
      "source": [
        "#00_guess_my_number\n",
        "\n",
        "#Guess My Number\n",
        "# I am thinking of a number between 0 and 99... Enter a guess: 50 Your guess is too high\n",
        "# Enter a new number: 25 Your guess is too low\n",
        "# Enter a new number: 40 Your guess is too low\n",
        "# Enter a new number: 45 Your guess is too low\n",
        "# Enter a new number: 48 Congrats! The number was: 48\n",
        "\n",
        "import random\n",
        "\n",
        "def main():\n",
        "    secret_number = random.randint(1, 9)\n",
        "    print(\"I am thinking of a number between 1 and 9...\")\n",
        "\n",
        "    guess = int(input(\"Enter a guess: \"))\n",
        "\n",
        "    while guess != secret_number:\n",
        "        if guess < secret_number:\n",
        "            print(\"Your guess is too low\")\n",
        "        else:\n",
        "            print(\"Your guess is too high\")\n",
        "\n",
        "        guess = int(input(\"Enter a new guess: \"))\n",
        "\n",
        "    print(\"Congrats😃! The number was:\", secret_number)\n",
        "\n",
        "if __name__ == '__main__':\n",
        "    main()"
      ],
      "metadata": {
        "colab": {
          "base_uri": "https://localhost:8080/"
        },
        "id": "IyksV_tNtVfb",
        "outputId": "a86f94ec-1d63-4b87-f760-b9dbaf4237de"
      },
      "execution_count": null,
      "outputs": [
        {
          "output_type": "stream",
          "name": "stdout",
          "text": [
            "I am thinking of a number between 1 and 9...\n",
            "Enter a guess: 3\n",
            "Your guess is too low\n",
            "Enter a new guess: 4\n",
            "Your guess is too low\n",
            "Enter a new guess: 5\n",
            "Your guess is too low\n",
            "Enter a new guess: 6\n",
            "Congrats😃! The number was: 6\n"
          ]
        }
      ]
    },
    {
      "cell_type": "code",
      "source": [
        "#01_fibonacci\n",
        "\n",
        "#Write a program to print terms in the Fibonacci sequence up to a maximum value.\n",
        "# In the 13th century, the Italian mathematician Leonardo Fibonacci, as a way to explain the geometric growth of a population of rabbits, devised a mathematical sequence that now bears his name. The first two terms in this sequence, Fib(0) and Fib(1), are 0 and 1, and every subsequent term is the sum of the preceding two. Thus, the first several terms in the Fibonacci sequence look like this:\n",
        "# Fib(0) = 0 Fib(1) = 1 Fib(2) = 1 = 0 + 1 Fib(3) = 2 = 1 + 1 Fib(4) = 3 = 1 + 2 Fib(5) = 5 = 2 + 3\n",
        "# Write a program that displays the terms in the Fibonacci sequence, starting with Fib(0) and continuing as long as the terms are less than 10,000 (you should store this value as a constant!). Thus, your program should produce the following sample run:\n",
        "# 0 1 1 2 3 5 8 13 21 34 55 89 144 233 377 610 987 1597 2584 4181 6765\n",
        "\n",
        "max_term_value = 10000\n",
        "\n",
        "def main():\n",
        "    curr_term = 0  # The 0th Fibonacci Number\n",
        "    next_term = 1  # The 1st Fibonacci Number\n",
        "\n",
        "    while curr_term <= max_term_value:\n",
        "        print(curr_term, end=\" \")\n",
        "        term_after_next = curr_term + next_term\n",
        "        curr_term = next_term\n",
        "        next_term = term_after_next\n",
        "\n",
        "if __name__ == '__main__':\n",
        "    main()"
      ],
      "metadata": {
        "colab": {
          "base_uri": "https://localhost:8080/"
        },
        "id": "hRd0JzYYtzxG",
        "outputId": "3ee64569-c83f-4ac8-f416-c45b70c88884"
      },
      "execution_count": null,
      "outputs": [
        {
          "output_type": "stream",
          "name": "stdout",
          "text": [
            "0 1 1 2 3 5 8 13 21 34 55 89 144 233 377 610 987 1597 2584 4181 6765 "
          ]
        }
      ]
    },
    {
      "cell_type": "code",
      "source": [
        "#02_print_events\n",
        "\n",
        "#Write a program that prints the first 20 even numbers. There are several correct approaches, but they all use a loop of some sort. Do no write twenty print statements\n",
        "# The first even number is 0:\n",
        "# 0 2 4 6 8 10 12 14 16 18 20 22 24 26 28 30 32 34 36 38\n",
        "\n",
        "def main():\n",
        "    # Print the first 20 even numbers\n",
        "    for i in range(20):\n",
        "        print(i * 2, end=\" \")\n",
        "\n",
        "if __name__ == \"__main__\":\n",
        "    main()"
      ],
      "metadata": {
        "colab": {
          "base_uri": "https://localhost:8080/"
        },
        "id": "6IWS09U6uGYr",
        "outputId": "9157177a-8a03-49dc-fa77-af076fbdfda8"
      },
      "execution_count": null,
      "outputs": [
        {
          "output_type": "stream",
          "name": "stdout",
          "text": [
            "0 2 4 6 8 10 12 14 16 18 20 22 24 26 28 30 32 34 36 38 "
          ]
        }
      ]
    },
    {
      "cell_type": "code",
      "source": [
        "#03_wholesome_machine\n",
        "\n",
        "#Write a program which prompts the user to type an affirmation of your choice (we'll use \"I am capable of doing anything I put my mind to.\") until they type it correctly. Sometimes, especially in the midst of such uncertain times, we just need to be reminded that we are resilient, capable, and strong; this little Python program may be able to help!\n",
        "# Here's a sample run of the program (user input is in blue):\n",
        "# Please type the following affirmation: I am capable of doing anything I put my mind to. Hmmm That was not the affirmation. Please type the following affirmation: I am capable of doing anything I put my mind to. I am capable of doing anything I put my mind to. That's right! :)\n",
        "# Note that you can call input() with no prompt and it will still wait for a user to type something!\n",
        "\n",
        "affirmation = \"I am capable of doing anything I put my mind to.\"\n",
        "\n",
        "def main():\n",
        "    print(\"Please type the following affirmation: \" + affirmation)\n",
        "\n",
        "    while True:\n",
        "        user_input = input()\n",
        "        if user_input == affirmation:\n",
        "            print(\"That's right! :)\")\n",
        "            break\n",
        "        print(\"That was not the affirmation. Please try again.\")\n",
        "\n",
        "if __name__ == '__main__':\n",
        "    main()"
      ],
      "metadata": {
        "colab": {
          "base_uri": "https://localhost:8080/"
        },
        "id": "QfBkDZ7PvEKx",
        "outputId": "a6b54e62-0048-47cb-a006-054af2d80b66"
      },
      "execution_count": null,
      "outputs": [
        {
          "output_type": "stream",
          "name": "stdout",
          "text": [
            "Please type the following affirmation: I am capable of doing anything I put my mind to.\n",
            "I am capable of doing anything I put my mind to\n",
            "That was not the affirmation. Please try again.\n",
            "I am capable of doing anything I put my mind to.\n",
            "That's right! :)\n"
          ]
        }
      ]
    },
    {
      "cell_type": "code",
      "source": [
        "#04_liftoff\n",
        "\n",
        "#Write a program that prints out the calls for a spaceship that is about to launch. Countdown from 10 to 1 and then output Liftoff!\n",
        "# Here's a sample run of the program:\n",
        "# 10 9 8 7 6 5 4 3 2 1 Liftoff!\n",
        "# There are many ways to solve this problem. One approach is to use a for loop, and to use the for loop variable i. Recall that i will keep track of how many times the for loop has completed executing its body. As an example this code:\n",
        "# for i in range(10): print(i)\n",
        "# Will print out the values 0, 1, 2, 3, 4, 5, 6, 7, 8, 9. The values printed in liftoff are 10 minus the number of times the for loop has completed.\n",
        "\n",
        "def main():\n",
        "    # Countdown from 10 to 1\n",
        "    for i in range(10, 0, -1):\n",
        "        print(i, end=\" \")\n",
        "    print(\"Liftoff!\")\n",
        "\n",
        "if __name__ == \"__main__\":\n",
        "    main()"
      ],
      "metadata": {
        "colab": {
          "base_uri": "https://localhost:8080/"
        },
        "id": "ByZO2anNvjWn",
        "outputId": "0f54e781-9219-4f7e-9c82-a4f1c5a61bd5"
      },
      "execution_count": null,
      "outputs": [
        {
          "output_type": "stream",
          "name": "stdout",
          "text": [
            "10 9 8 7 6 5 4 3 2 1 Liftoff!\n"
          ]
        }
      ]
    },
    {
      "cell_type": "code",
      "source": [
        "#05_double_it\n",
        "\n",
        "#Write a program that asks a user to enter a number. Your program will then double that number and print out the result. It will repeat that process until the value is 100 or greater.\n",
        "# For example if the user enters the number 2 you would then print:\n",
        "# 4 8 16 32 64 128\n",
        "# Note that:\n",
        "# 2 doubled is 4\n",
        "# 4 doubled is 8\n",
        "# 8 doubled is 16\n",
        "# and so on.\n",
        "# We stop at 128 because that value is greater than 100.\n",
        "# Maintain the current number in a variable named curr_value. When you double the number, you should be updating curr_value. Recall that you can double the value of curr_value using a line like:\n",
        "# curr_value = curr_value * 2\n",
        "# This program should have a while loop and the while loop condition should test if curr_value is less than 100. Thus, your program will have the line:\n",
        "# while curr_value < 100:\n",
        "\n",
        "\n",
        "def main():\n",
        "    num = int(input(\"Enter a number: \"))\n",
        "    curr_value = num\n",
        "    outputs = []\n",
        "    while curr_value < 100:\n",
        "        curr_value *= 2\n",
        "        outputs.append(str(curr_value))\n",
        "    print(' '.join(outputs))\n",
        "\n",
        "if __name__ == '__main__':\n",
        "    main()\n"
      ],
      "metadata": {
        "colab": {
          "base_uri": "https://localhost:8080/"
        },
        "id": "AhJh7lH-v8tG",
        "outputId": "a7cd7a8c-eb3f-4983-e956-689818ab8724"
      },
      "execution_count": null,
      "outputs": [
        {
          "output_type": "stream",
          "name": "stdout",
          "text": [
            "Enter a number: 7\n",
            "14 28 56 112\n"
          ]
        }
      ]
    },
    {
      "cell_type": "markdown",
      "source": [
        "**06_functions**"
      ],
      "metadata": {
        "id": "UvJjRZOqwlMu"
      }
    },
    {
      "cell_type": "code",
      "source": [
        "#00_averages\n",
        "\n",
        "#Write a function that takes two numbers and finds the average between the two.\n",
        "def average(a, b):\n",
        "    return (a + b) / 2\n",
        "\n",
        "def main():\n",
        "    num1 = float(input(\"Enter the first number: \"))\n",
        "    num2 = float(input(\"Enter the second number: \"))\n",
        "    result = average(num1, num2)\n",
        "    print(f\"The average of {num1} and {num2} is {result}\")\n",
        "\n",
        "if __name__ == '__main__':\n",
        "    main()\n"
      ],
      "metadata": {
        "id": "xKjUggrUwnh5",
        "colab": {
          "base_uri": "https://localhost:8080/"
        },
        "outputId": "e36095ff-76a7-4fa7-96b6-3f11536b35d1"
      },
      "execution_count": null,
      "outputs": [
        {
          "output_type": "stream",
          "name": "stdout",
          "text": [
            "Enter the first number: 3\n",
            "Enter the second number: 2\n",
            "The average of 3.0 and 2.0 is 2.5\n"
          ]
        }
      ]
    },
    {
      "cell_type": "code",
      "source": [
        "#01_chaotic_counting\n",
        "\n",
        "#Fill out the chaotic_counting() function, which prints the numbers from 1 to 10, but with a catch. We've written a done() function which returns True with likelihood DONE_LIKELIHOOD -- at each number, before printing the number, you should call done() and check if it returns True or not. If done() returns True, we're done counting, and you should use a return statement to end the chaotic_counting() function execution and resume execution of main(), which will print \"I'm done.\". We've written main() for you -- check it out! Notice that we'll only print \"I'm done\" from main() once chaotic_counting() is done with its execution.\n",
        "# Here's a sample run of this program:\n",
        "# I'm going to count until 10 or until I feel like stopping, whichever comes first. 1 2 3 I'm done.\n",
        "\n",
        "import random\n",
        "\n",
        "# Simulated done() function\n",
        "DONE_LIKELIHOOD = 0.3  # 30% chance to return True\n",
        "\n",
        "def done():\n",
        "    return random.random() < DONE_LIKELIHOOD\n",
        "\n",
        "def chaotic_counting():\n",
        "    for i in range(1, 11):\n",
        "        if done():\n",
        "            return\n",
        "        print(i, end=' ')\n",
        "\n",
        "def main():\n",
        "    print(\"I'm going to count until 10 or until I feel like stopping, whichever comes first.\", end=' ')\n",
        "    chaotic_counting()\n",
        "    print(\"I'm done.\")\n",
        "\n",
        "# Call the main function to execute\n",
        "if __name__ == \"__main__\":\n",
        "    main()\n"
      ],
      "metadata": {
        "colab": {
          "base_uri": "https://localhost:8080/"
        },
        "id": "2jDfHAVKOJfl",
        "outputId": "80fc58c6-7806-4570-e2b1-f5b38c6680ad"
      },
      "execution_count": null,
      "outputs": [
        {
          "output_type": "stream",
          "name": "stdout",
          "text": [
            "I'm going to count until 10 or until I feel like stopping, whichever comes first. 1 2 I'm done.\n"
          ]
        }
      ]
    },
    {
      "cell_type": "code",
      "source": [
        "#02_count_even\n",
        "\n",
        "#Fill out the function count_even(lst) which\n",
        "# first populates a list by prompting the user for integers until they press enter (please use the prompt \"Enter an integer or press enter to stop: \"),\n",
        "# and then prints the number of even numbers in the list.\n",
        "# If you'd prefer to focus on the second task only, scroll down for our implementation of the first task!\n",
        "\n",
        "\n",
        "def count_even():\n",
        "    lst = []\n",
        "    while True:\n",
        "        user_input = input(\"Enter an integer or press enter to stop: \")\n",
        "        if user_input == \"\":\n",
        "            break\n",
        "        try:\n",
        "            number = int(user_input)\n",
        "            lst.append(number)\n",
        "        except ValueError:\n",
        "            print(\"Please enter a valid integer.\")\n",
        "\n",
        "    even_count = sum(1 for num in lst if num % 2 == 0)\n",
        "    print(f\"Number of even numbers: {even_count}\")\n",
        "\n",
        "# Call the function to execute\n",
        "count_even()\n",
        "\n"
      ],
      "metadata": {
        "colab": {
          "base_uri": "https://localhost:8080/"
        },
        "id": "1HkqJ1BbOpaK",
        "outputId": "0ea254e0-eba3-4617-bbbb-c2ceda599ad6"
      },
      "execution_count": null,
      "outputs": [
        {
          "output_type": "stream",
          "name": "stdout",
          "text": [
            "Enter an integer or press enter to stop: 3\n",
            "Enter an integer or press enter to stop: 2\n",
            "Enter an integer or press enter to stop: 5\n",
            "Enter an integer or press enter to stop: \n",
            "Number of even numbers: 1\n"
          ]
        }
      ]
    },
    {
      "cell_type": "code",
      "source": [
        "#04_double\n",
        "# Fill out the double(num) function to return the result of multiplying num by 2. We've written a main() function for you which asks the user for a number, calls your code for double(num) , and prints the result.\n",
        "# Here's a sample run of the program (user input in bold italics):\n",
        "# Enter a number: 2 Double that is 4\n",
        "\n",
        "def double(num):\n",
        "    return num * 2\n",
        "\n",
        "def main():\n",
        "    user_input = input(\"Enter a number: \")\n",
        "    try:\n",
        "        number = float(user_input)  # Convert input to float\n",
        "        result = double(number)\n",
        "        print(f\"Double that is {result}\")\n",
        "    except ValueError:\n",
        "        print(\"Please enter a valid number.\")\n",
        "\n",
        "# Call the main function to execute\n",
        "if __name__ == \"__main__\":\n",
        "    main()\n"
      ],
      "metadata": {
        "colab": {
          "base_uri": "https://localhost:8080/"
        },
        "id": "SnnFwjobPFe1",
        "outputId": "c6ffb500-b3d1-458f-c80f-9afdc9bb9c56"
      },
      "execution_count": null,
      "outputs": [
        {
          "output_type": "stream",
          "name": "stdout",
          "text": [
            "Enter a number: 4\n",
            "Double that is 8.0\n"
          ]
        }
      ]
    },
    {
      "cell_type": "code",
      "source": [
        "#05_get_name\n",
        "\n",
        "#Fill out the get_name() function to return your name as a string! We've written a main() function for you which calls your function to retrieve your name and then prints it in a greeting.\n",
        "# Here's a sample run of the program where the name we've decided to return is Sophia (the autograder expects the returned name to be Sophia):\n",
        "# Howdy Sophia ! 🤠\n",
        "\n",
        "def get_name():\n",
        "    return \"Sophia\"\n",
        "\n",
        "def main():\n",
        "    name = get_name()\n",
        "    print(f\"Howdy {name} ! 🤠\")\n",
        "\n",
        "# Call the main function to execute\n",
        "if __name__ == \"__main__\":\n",
        "    main()"
      ],
      "metadata": {
        "colab": {
          "base_uri": "https://localhost:8080/"
        },
        "id": "YzzT3lFFQBPM",
        "outputId": "fb8c09c2-a4b1-45e8-d0b7-abe05f60539a"
      },
      "execution_count": null,
      "outputs": [
        {
          "output_type": "stream",
          "name": "stdout",
          "text": [
            "Howdy Sophia ! 🤠\n"
          ]
        }
      ]
    },
    {
      "cell_type": "code",
      "source": [
        "#06_is_odd\n",
        "\n",
        "#10 even 11 odd 12 even 13 odd 14 even 15 odd 16 even 17 odd 18 even 19 odd\n",
        "\n",
        "def main():\n",
        "    for num in range(10, 20):\n",
        "        if num % 2 == 0:\n",
        "            print(f\"{num} even\", end=\" \")\n",
        "        else:\n",
        "            print(f\"{num} odd\", end=\" \")\n",
        "    print()  # Move to the next line after printing\n",
        "\n",
        "# This provided line is required at the end of the Python file to call the main() function.\n",
        "if __name__ == '__main__':\n",
        "    main()"
      ],
      "metadata": {
        "colab": {
          "base_uri": "https://localhost:8080/"
        },
        "id": "aw9Oijx0QR82",
        "outputId": "889549a4-3d32-4cfe-a1b4-efa951809c24"
      },
      "execution_count": null,
      "outputs": [
        {
          "output_type": "stream",
          "name": "stdout",
          "text": [
            "10 even 11 odd 12 even 13 odd 14 even 15 odd 16 even 17 odd 18 even 19 odd \n"
          ]
        }
      ]
    },
    {
      "cell_type": "code",
      "source": [
        "#07_print_divisor\n",
        "\n",
        "#Write the helper function print_divisors(num), which takes in a number and prints all of its divisors (all the numbers from 1 to num inclusive that num can be cleanly divided by (there is no remainder to the division). Don't forget to call your function in main()!\n",
        "# Here's a sample run (user input is in blue):\n",
        "# Enter a number: 12 Here are the divisors of 12 1 2 3 4 6 12\n",
        "\n",
        "def print_divisors(num):\n",
        "    print(f\"Here are the divisors of {num}\", end=\" \")\n",
        "    divisors = [str(i) for i in range(1, num + 1) if num % i == 0]\n",
        "    print(\" \".join(divisors))\n",
        "\n",
        "def main():\n",
        "    user_input = input(\"Enter a number: \")\n",
        "    try:\n",
        "        number = int(user_input)  # Convert input to integer\n",
        "        print_divisors(number)\n",
        "    except ValueError:\n",
        "        print(\"Please enter a valid integer.\")\n",
        "\n",
        "# This provided line is required at the end of the Python file to call the main() function.\n",
        "if __name__ == '__main__':\n",
        "    main()"
      ],
      "metadata": {
        "colab": {
          "base_uri": "https://localhost:8080/"
        },
        "id": "OboGe0oOQaOO",
        "outputId": "83d10b74-20ee-4029-ad7c-976b375700db"
      },
      "execution_count": null,
      "outputs": [
        {
          "output_type": "stream",
          "name": "stdout",
          "text": [
            "Enter a number: 9\n",
            "Here are the divisors of 9 1 3 9\n"
          ]
        }
      ]
    },
    {
      "cell_type": "code",
      "source": [
        "#08_print_multiple\n",
        "\n",
        "#Fill out print_multiple(message, repeats), which takes as parameters a string message to print, and an integer repeats number of times to print message. We've written the main() function for you, which prompts the user for a message and a number of repeats.\n",
        "# Here's a sample run of the program (user input is in blue):\n",
        "# Please type a message: Hello! Enter a number of times to repeat your message: 6 Hello! Hello! Hello! Hello! Hello! Hello!\n",
        "\n",
        "def print_multiple(message, repeats):\n",
        "    for _ in range(repeats):\n",
        "        print(message, end=\" \")\n",
        "\n",
        "def main():\n",
        "    message = input(\"Please type a message: \")\n",
        "    user_input = input(\"Enter a number of times to repeat your message: \")\n",
        "    try:\n",
        "        repeats = int(user_input)  # Convert input to integer\n",
        "        print_multiple(message,repeats)\n",
        "        print()  # Move to the next line after printing\n",
        "    except ValueError:\n",
        "        print(\"Please enter a valid integer.\")\n",
        "\n",
        "# This provided line is required at the end of the Python file to call the main() function.\n",
        "if __name__ == '__main__':\n",
        "    main()"
      ],
      "metadata": {
        "colab": {
          "base_uri": "https://localhost:8080/"
        },
        "id": "MTTIlSDqQzf7",
        "outputId": "57a5de6f-2d10-4a3f-b453-25430a5355c5"
      },
      "execution_count": null,
      "outputs": [
        {
          "output_type": "stream",
          "name": "stdout",
          "text": [
            "Please type a message: what are you doing\n",
            "Enter a number of times to repeat your message: 6\n",
            "what are you doing what are you doing what are you doing what are you doing what are you doing what are you doing \n"
          ]
        }
      ]
    },
    {
      "cell_type": "code",
      "source": [
        "#09_sentence_generator\n",
        "\n",
        "#Implement the helper function make_sentence(word, part_of_speech) which will take a string word and an integer part_of_speech as parameters and, depending on the part of speech, place the word into one of three sentence templates (or one from your imagination!):\n",
        "# If part_of_speech is 0, we will assume the word is a noun and use the template: \"I am excited to add this ____ to my vast collection of them!\"\n",
        "# If part_of_speech is 1, we will assume the word is a verb use the template: \"It's so nice outside today it makes me want to ____!\"\n",
        "# If part_of_speech is 2, we will assume the word is an adjective and use the template: \"Looking out my window, the sky is big and ____!\" make_sentence(word, part_of_speech) should not return anything, just print the correct sentence with the word filled in the blank.\n",
        "# Here's a sample run of the program (user input is in blue):\n",
        "# Please type a noun, verb, or adjective: groovy Is this a noun, verb, or adjective? Type 0 for noun, 1 for verb, 2 for adjective: 2 Looking out my window, the sky is big and groovy!\n",
        "\n",
        "def make_sentence(word, part_of_speech):\n",
        "    if part_of_speech == 0:\n",
        "        print(f\"I am excited to add this {word} to my vast collection of them!\")\n",
        "    elif part_of_speech == 1:\n",
        "        print(f\"It's so nice outside today it makes me want to {word}!\")\n",
        "    elif part_of_speech == 2:\n",
        "        print(f\"Looking out my window, the sky is big and {word}!\")\n",
        "    else:\n",
        "        print(\"Invalid part of speech.\")\n",
        "\n",
        "def main():\n",
        "    word = input(\"Please type a noun, verb, or adjective: \")\n",
        "    user_input = input(\"Is this a noun, verb, or adjective? Type 0 for noun, 1 for verb, 2 for adjective: \")\n",
        "\n",
        "    try:\n",
        "        part_of_speech = int(user_input)  # Convert input to integer\n",
        "        make_sentence(word, part_of_speech)\n",
        "    except ValueError:\n",
        "        print(\"Please enter a valid integer.\")\n",
        "\n",
        "# This provided line is required at the end of the Python file to call the main() function.\n",
        "if __name__ == '__main__':\n",
        "    main()"
      ],
      "metadata": {
        "colab": {
          "base_uri": "https://localhost:8080/"
        },
        "id": "-679jT3NRK6P",
        "outputId": "a6a26053-c03c-4b8a-e343-141bccef63b6"
      },
      "execution_count": null,
      "outputs": [
        {
          "output_type": "stream",
          "name": "stdout",
          "text": [
            "Please type a noun, verb, or adjective: crow\n",
            "Is this a noun, verb, or adjective? Type 0 for noun, 1 for verb, 2 for adjective: 2\n",
            "Looking out my window, the sky is big and crow!\n"
          ]
        }
      ]
    },
    {
      "cell_type": "code",
      "source": [
        "#10_print_ones_digit\n",
        "\n",
        "#Write a function called print_ones_digit , which takes as a parameter an integer num and prints its ones digit. The modulo (remainder) operator, %, should be helpful to you here. Call your function from main()!\n",
        "# Here's a sample run (user input is in blue):\n",
        "# Enter a number: 42 The ones digit is 2\n",
        "\n",
        "def print_ones_digit(num):\n",
        "    ones_digit = num % 10\n",
        "    print(f\"The ones digit is {ones_digit}\")\n",
        "\n",
        "def main():\n",
        "    user_input = input(\"Enter a number: \")\n",
        "    try:\n",
        "        number = int(user_input)  # Convert input to integer\n",
        "        print_ones_digit(number)\n",
        "    except ValueError:\n",
        "        print(\"Please enter a valid integer.\")\n",
        "\n",
        "# This provided line is required at the end of the Python file to call the main() function.\n",
        "if __name__ == '__main__':\n",
        "    main()"
      ],
      "metadata": {
        "colab": {
          "base_uri": "https://localhost:8080/"
        },
        "id": "Fu1ffcAbR--G",
        "outputId": "efe79dad-2ed3-44cf-c43f-3a8222adf35b"
      },
      "execution_count": null,
      "outputs": [
        {
          "output_type": "stream",
          "name": "stdout",
          "text": [
            "Enter a number: 7\n",
            "The ones digit is 7\n"
          ]
        }
      ]
    },
    {
      "cell_type": "markdown",
      "source": [
        " **07_information_flow**"
      ],
      "metadata": {
        "id": "hGrk6CetS3Oy"
      }
    },
    {
      "cell_type": "code",
      "source": [
        "#00_choosing_returns\n",
        "\n",
        "#There are times where we want to return different things from a function based on some condition. To practice this idea, imagine that we want to check if someone is an adult. We might check their age and return different things depending on how old they are!\n",
        "# We've provided you with the ADULT_AGE variable which has the age a person is legally classified as an adult (in the United States). Fill out the is_adult(age) function, which returns True if the function takes an age that is greater than or equal to ADULT_AGE. If the function takes an age less than ADULT_AGE, return False instead.\n",
        "# Here are two sample runs of the program, one for each return option (user input in bold italics):\n",
        "# (Entered age is an adult age)\n",
        "# How old is this person?: 35\n",
        "# True\n",
        "# (Entered age is not an adult age)\n",
        "# How old is this person?: 7\n",
        "# False\n",
        "\n",
        "ADULT_AGE = 18  # The age considered as an adult in the U.S.\n",
        "\n",
        "def is_adult(age):\n",
        "    return age >= ADULT_AGE\n",
        "\n",
        "def main():\n",
        "    user_input = input(\"How old is this person?: \")\n",
        "    try:\n",
        "        age = int(user_input)  # Convert input to integer\n",
        "        result = is_adult(age)\n",
        "        print(result)\n",
        "    except ValueError:\n",
        "        print(\"Please enter a valid integer.\")\n",
        "\n",
        "# This provided line is required at the end of the Python file to call the main() function.\n",
        "if __name__ == '__main__':\n",
        "    main()"
      ],
      "metadata": {
        "colab": {
          "base_uri": "https://localhost:8080/"
        },
        "id": "OZ4cFMo6S6-z",
        "outputId": "a363002d-180d-4d6c-bf18-ac63ddeabe37"
      },
      "execution_count": null,
      "outputs": [
        {
          "output_type": "stream",
          "name": "stdout",
          "text": [
            "How old is this person?: 20\n",
            "True\n"
          ]
        }
      ]
    },
    {
      "cell_type": "code",
      "source": [
        "#01_greetings\n",
        "\n",
        "#We've written a helper function for you called greet(name) which takes as input a string name and prints a greeting. Write some code in main() to get the user's name and then greet them, being sure to call the greet(name) helper function.\n",
        "# Here's a sample run of the program (user input in bold italics):\n",
        "# What's your name? Sophia\n",
        "# Greetings Sophia!\n",
        "\n",
        "def greet(name):\n",
        "    print(f\"Greetings {name}!\")\n",
        "\n",
        "def main():\n",
        "    name = input(\"What's your name? \")\n",
        "    greet(name)\n",
        "\n",
        "# This provided line is required at the end of the Python file to call the main() function.\n",
        "if __name__ == '__main__':\n",
        "    main()"
      ],
      "metadata": {
        "colab": {
          "base_uri": "https://localhost:8080/"
        },
        "id": "XZlIrFSfSqSQ",
        "outputId": "3646ad5c-5647-4b0b-f831-802e5bb4079a"
      },
      "execution_count": null,
      "outputs": [
        {
          "output_type": "stream",
          "name": "stdout",
          "text": [
            "What's your name? yumna\n",
            "Greetings yumna!\n"
          ]
        }
      ]
    },
    {
      "cell_type": "code",
      "source": [
        "#02_in_range\n",
        "\n",
        "#Implement the following function which takes in 3 integers as parameters:\n",
        "# def in_range(n, low, high) \"\"\" Returns True if n is between low and high, inclusive. high is guaranteed to be greater than low. \"\"\"\n",
        "\n",
        "def in_range(n, low, high):\n",
        "    \"\"\" Returns True if n is between low and high, inclusive.\n",
        "        high is guaranteed to be greater than low.\n",
        "    \"\"\"\n",
        "    return low <= n <= high\n",
        "\n",
        "# Example usage\n",
        "if __name__ == \"__main__\":\n",
        "    # Test cases\n",
        "    print(in_range(5, 1, 10))  # True\n",
        "    print(in_range(1, 1, 10))  # True\n",
        "    print(in_range(10, 1, 10)) # True\n",
        "    print(in_range(0, 1, 10))  # False\n",
        "    print(in_range(11, 1, 10)) # False"
      ],
      "metadata": {
        "colab": {
          "base_uri": "https://localhost:8080/"
        },
        "id": "Ba-Emf96ToOD",
        "outputId": "6c05c726-e7f2-4d92-e12a-4fa470cb07a7"
      },
      "execution_count": null,
      "outputs": [
        {
          "output_type": "stream",
          "name": "stdout",
          "text": [
            "True\n",
            "True\n",
            "True\n",
            "False\n",
            "False\n"
          ]
        }
      ]
    },
    {
      "cell_type": "code",
      "source": [
        "#03_in_stock\n",
        "\n",
        "#Sophia has a fruit store. She has written a function num_in_stock which takes a string fruit as a parameter and returns how many of that fruit are in her inventory. Write code in main() which will:\n",
        "# Prompt the user to enter a fruit (\"Enter a fruit: \")\n",
        "# Call num_in_stock(fruit) to get the number of that fruit that Sophia has in stock\n",
        "# Print the number which are in stock if Sophia has that fruit in her inventory (there are more than 0 in stock)\n",
        "# Print \"This fruit is not in stock.\" if Sophia has none of that fruit in her inventory.\n",
        "# Here's two sample runs of the program (user input in bold italics):\n",
        "# Enter a fruit: pear\n",
        "# This fruit is in stock! Here is how many:\n",
        "# 1000\n",
        "# Enter a fruit: lychee\n",
        "# This fruit is not in stock.\n",
        "\n",
        "# Sample inventory for demonstration purposes\n",
        "inventory = {\n",
        "    \"apple\": 50,\n",
        "    \"banana\": 30,\n",
        "    \"pear\": 1000,\n",
        "    \"orange\": 0,\n",
        "    \"grape\": 200\n",
        "}\n",
        "\n",
        "def num_in_stock(fruit):\n",
        "    \"\"\"Returns the number of the specified fruit in stock.\"\"\"\n",
        "    return inventory.get(fruit, 0)\n",
        "\n",
        "def main():\n",
        "    fruit = input(\"Enter a fruit: \")\n",
        "    stock = num_in_stock(fruit)\n",
        "\n",
        "    if stock > 0:\n",
        "        print(\"This fruit is in stock! Here is how many:\")\n",
        "        print(stock)\n",
        "    else:\n",
        "        print(\"This fruit is not in stock.\")\n",
        "\n",
        "# This provided line is required at the end of the Python file to call the main() function.\n",
        "if __name__ == '__main__':\n",
        "    main()"
      ],
      "metadata": {
        "colab": {
          "base_uri": "https://localhost:8080/"
        },
        "id": "-gouoWlRT28X",
        "outputId": "260527b3-f2d6-4e30-eb41-6ddbd1ce262d"
      },
      "execution_count": null,
      "outputs": [
        {
          "output_type": "stream",
          "name": "stdout",
          "text": [
            "Enter a fruit: apple\n",
            "This fruit is in stock! Here is how many:\n",
            "50\n"
          ]
        }
      ]
    },
    {
      "cell_type": "code",
      "source": [
        "#04_multiple_returns\n",
        "\n",
        "#There are times where you are working with lots of different data within a function that you want to return. While generally, we want to keep functions to have a precise purpose, sometimes that purpose just deals with multiple bits of data.\n",
        "# To practice this, imagine we are working on a program where the user needs to enters data to sign up for a website. Fill out the get_user_data() function which:\n",
        "# Asks the user for their first name and stores it in a variable\n",
        "# Asks the user for their last name and stores it in a variable\n",
        "# Asks the user for their email address and stores it in a variable\n",
        "# Returns all three of these pieces of data in the order it was asked\n",
        "# You can return multiple pieces of data by separating each piece with a comma in the return line.\n",
        "# Here is an example run of the program:\n",
        "# What is your first name?: Jane\n",
        "# What is your last name?: Stanford\n",
        "# What is your email address?: janestanford@stanford.edu\n",
        "# Received the following user data: ('Jane', 'Stanford', 'janestanford@stanford.edu')\n",
        "# (Note. This idea is called tuple packing/unpacking. We \"pack\" our return values into a single data structure called a tuple. We can then \"unpack\" these values back into our original values or leave them as a tuple.)\n",
        "\n",
        "def get_user_data():\n",
        "    first_name = input(\"What is your first name?: \")\n",
        "    last_name = input(\"What is your last name?: \")\n",
        "    email = input(\"What is your email address?: \")\n",
        "    return first_name, last_name, email  # Returning multiple values as a tuple\n",
        "\n",
        "def main():\n",
        "    user_data = get_user_data()  # Get user data as a tuple\n",
        "    print(\"Received the following user data:\", user_data)\n",
        "\n",
        "# This provided line is required at the end of the Python file to call the main() function.\n",
        "if __name__ == '__main__':\n",
        "    main()"
      ],
      "metadata": {
        "colab": {
          "base_uri": "https://localhost:8080/"
        },
        "id": "NlCBPtCHULvo",
        "outputId": "b40237e7-5125-4d81-ccb3-67dec034ec87"
      },
      "execution_count": null,
      "outputs": [
        {
          "output_type": "stream",
          "name": "stdout",
          "text": [
            "What is your first name?: yumna\n",
            "What is your last name?: nasir\n",
            "What is your email address?: yumnanasir719@gmail.com\n",
            "Received the following user data: ('yumna', 'nasir', 'yumnanasir719@gmail.com')\n"
          ]
        }
      ]
    },
    {
      "cell_type": "code",
      "source": [
        "#05_subtract_7\n",
        "\n",
        "#Fill out the subtract_seven helper function to subtract 7 from num, and fill out the main() method to call the subtract_seven helper function! If you're stuck, revisit the add_five example from lecture.\n",
        "\n",
        "def subtract_seven(num):\n",
        "    \"\"\"Subtracts 7 from the given number.\"\"\"\n",
        "    return num - 7\n",
        "\n",
        "def main():\n",
        "    user_input = input(\"Enter a number: \")\n",
        "    try:\n",
        "        number = int(user_input)  # Convert input to integer\n",
        "        result = subtract_seven(number)  # Call the helper function\n",
        "        print(f\"The result after subtracting 7 is: {result}\")\n",
        "    except ValueError:\n",
        "        print(\"Please enter a valid integer.\")\n",
        "\n",
        "# This provided line is required at the end of the Python file to call the main() function.\n",
        "if __name__ == '__main__':\n",
        "    main()"
      ],
      "metadata": {
        "colab": {
          "base_uri": "https://localhost:8080/"
        },
        "id": "QcRtSIFLVgz6",
        "outputId": "ce92e0f7-9776-48c1-c3b2-771047a7f844"
      },
      "execution_count": null,
      "outputs": [
        {
          "output_type": "stream",
          "name": "stdout",
          "text": [
            "Enter a number: 6\n",
            "The result after subtracting 7 is: -1\n"
          ]
        }
      ]
    }
  ]
}